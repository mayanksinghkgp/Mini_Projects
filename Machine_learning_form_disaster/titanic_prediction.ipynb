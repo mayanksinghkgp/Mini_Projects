{
 "cells": [
  {
   "cell_type": "markdown",
   "id": "e988314a",
   "metadata": {},
   "source": [
    "# Titanic dataset EDA"
   ]
  },
  {
   "cell_type": "code",
   "execution_count": 114,
   "id": "7d62d994",
   "metadata": {},
   "outputs": [],
   "source": [
    "import numpy as np\n",
    "import pandas as pd\n",
    "import seaborn as sns\n",
    "import matplotlib.pyplot as plt\n",
    "\n",
    "%matplotlib inline"
   ]
  },
  {
   "cell_type": "markdown",
   "id": "208e98f6",
   "metadata": {},
   "source": [
    "### Importing data and understanding the nature of variables"
   ]
  },
  {
   "cell_type": "code",
   "execution_count": 115,
   "id": "e8263388",
   "metadata": {},
   "outputs": [
    {
     "data": {
      "text/html": [
       "<div>\n",
       "<style scoped>\n",
       "    .dataframe tbody tr th:only-of-type {\n",
       "        vertical-align: middle;\n",
       "    }\n",
       "\n",
       "    .dataframe tbody tr th {\n",
       "        vertical-align: top;\n",
       "    }\n",
       "\n",
       "    .dataframe thead th {\n",
       "        text-align: right;\n",
       "    }\n",
       "</style>\n",
       "<table border=\"1\" class=\"dataframe\">\n",
       "  <thead>\n",
       "    <tr style=\"text-align: right;\">\n",
       "      <th></th>\n",
       "      <th>PassengerId</th>\n",
       "      <th>Survived</th>\n",
       "      <th>Pclass</th>\n",
       "      <th>Name</th>\n",
       "      <th>Sex</th>\n",
       "      <th>Age</th>\n",
       "      <th>SibSp</th>\n",
       "      <th>Parch</th>\n",
       "      <th>Ticket</th>\n",
       "      <th>Fare</th>\n",
       "      <th>Cabin</th>\n",
       "      <th>Embarked</th>\n",
       "    </tr>\n",
       "  </thead>\n",
       "  <tbody>\n",
       "    <tr>\n",
       "      <th>0</th>\n",
       "      <td>1</td>\n",
       "      <td>0</td>\n",
       "      <td>3</td>\n",
       "      <td>Braund, Mr. Owen Harris</td>\n",
       "      <td>male</td>\n",
       "      <td>22.0</td>\n",
       "      <td>1</td>\n",
       "      <td>0</td>\n",
       "      <td>A/5 21171</td>\n",
       "      <td>7.2500</td>\n",
       "      <td>NaN</td>\n",
       "      <td>S</td>\n",
       "    </tr>\n",
       "    <tr>\n",
       "      <th>1</th>\n",
       "      <td>2</td>\n",
       "      <td>1</td>\n",
       "      <td>1</td>\n",
       "      <td>Cumings, Mrs. John Bradley (Florence Briggs Th...</td>\n",
       "      <td>female</td>\n",
       "      <td>38.0</td>\n",
       "      <td>1</td>\n",
       "      <td>0</td>\n",
       "      <td>PC 17599</td>\n",
       "      <td>71.2833</td>\n",
       "      <td>C85</td>\n",
       "      <td>C</td>\n",
       "    </tr>\n",
       "    <tr>\n",
       "      <th>2</th>\n",
       "      <td>3</td>\n",
       "      <td>1</td>\n",
       "      <td>3</td>\n",
       "      <td>Heikkinen, Miss. Laina</td>\n",
       "      <td>female</td>\n",
       "      <td>26.0</td>\n",
       "      <td>0</td>\n",
       "      <td>0</td>\n",
       "      <td>STON/O2. 3101282</td>\n",
       "      <td>7.9250</td>\n",
       "      <td>NaN</td>\n",
       "      <td>S</td>\n",
       "    </tr>\n",
       "    <tr>\n",
       "      <th>3</th>\n",
       "      <td>4</td>\n",
       "      <td>1</td>\n",
       "      <td>1</td>\n",
       "      <td>Futrelle, Mrs. Jacques Heath (Lily May Peel)</td>\n",
       "      <td>female</td>\n",
       "      <td>35.0</td>\n",
       "      <td>1</td>\n",
       "      <td>0</td>\n",
       "      <td>113803</td>\n",
       "      <td>53.1000</td>\n",
       "      <td>C123</td>\n",
       "      <td>S</td>\n",
       "    </tr>\n",
       "    <tr>\n",
       "      <th>4</th>\n",
       "      <td>5</td>\n",
       "      <td>0</td>\n",
       "      <td>3</td>\n",
       "      <td>Allen, Mr. William Henry</td>\n",
       "      <td>male</td>\n",
       "      <td>35.0</td>\n",
       "      <td>0</td>\n",
       "      <td>0</td>\n",
       "      <td>373450</td>\n",
       "      <td>8.0500</td>\n",
       "      <td>NaN</td>\n",
       "      <td>S</td>\n",
       "    </tr>\n",
       "  </tbody>\n",
       "</table>\n",
       "</div>"
      ],
      "text/plain": [
       "   PassengerId  Survived  Pclass  \\\n",
       "0            1         0       3   \n",
       "1            2         1       1   \n",
       "2            3         1       3   \n",
       "3            4         1       1   \n",
       "4            5         0       3   \n",
       "\n",
       "                                                Name     Sex   Age  SibSp  \\\n",
       "0                            Braund, Mr. Owen Harris    male  22.0      1   \n",
       "1  Cumings, Mrs. John Bradley (Florence Briggs Th...  female  38.0      1   \n",
       "2                             Heikkinen, Miss. Laina  female  26.0      0   \n",
       "3       Futrelle, Mrs. Jacques Heath (Lily May Peel)  female  35.0      1   \n",
       "4                           Allen, Mr. William Henry    male  35.0      0   \n",
       "\n",
       "   Parch            Ticket     Fare Cabin Embarked  \n",
       "0      0         A/5 21171   7.2500   NaN        S  \n",
       "1      0          PC 17599  71.2833   C85        C  \n",
       "2      0  STON/O2. 3101282   7.9250   NaN        S  \n",
       "3      0            113803  53.1000  C123        S  \n",
       "4      0            373450   8.0500   NaN        S  "
      ]
     },
     "execution_count": 115,
     "metadata": {},
     "output_type": "execute_result"
    }
   ],
   "source": [
    "df1 = pd.read_csv('./train.csv')\n",
    "df1.head()"
   ]
  },
  {
   "cell_type": "code",
   "execution_count": 116,
   "id": "4eb34d4c",
   "metadata": {},
   "outputs": [
    {
     "name": "stdout",
     "output_type": "stream",
     "text": [
      "<class 'pandas.core.frame.DataFrame'>\n",
      "RangeIndex: 891 entries, 0 to 890\n",
      "Data columns (total 12 columns):\n",
      " #   Column       Non-Null Count  Dtype  \n",
      "---  ------       --------------  -----  \n",
      " 0   PassengerId  891 non-null    int64  \n",
      " 1   Survived     891 non-null    int64  \n",
      " 2   Pclass       891 non-null    int64  \n",
      " 3   Name         891 non-null    object \n",
      " 4   Sex          891 non-null    object \n",
      " 5   Age          714 non-null    float64\n",
      " 6   SibSp        891 non-null    int64  \n",
      " 7   Parch        891 non-null    int64  \n",
      " 8   Ticket       891 non-null    object \n",
      " 9   Fare         891 non-null    float64\n",
      " 10  Cabin        204 non-null    object \n",
      " 11  Embarked     889 non-null    object \n",
      "dtypes: float64(2), int64(5), object(5)\n",
      "memory usage: 83.7+ KB\n"
     ]
    }
   ],
   "source": [
    "df1.info()"
   ]
  },
  {
   "cell_type": "code",
   "execution_count": 117,
   "id": "edab27f3",
   "metadata": {},
   "outputs": [
    {
     "data": {
      "text/html": [
       "<div>\n",
       "<style scoped>\n",
       "    .dataframe tbody tr th:only-of-type {\n",
       "        vertical-align: middle;\n",
       "    }\n",
       "\n",
       "    .dataframe tbody tr th {\n",
       "        vertical-align: top;\n",
       "    }\n",
       "\n",
       "    .dataframe thead th {\n",
       "        text-align: right;\n",
       "    }\n",
       "</style>\n",
       "<table border=\"1\" class=\"dataframe\">\n",
       "  <thead>\n",
       "    <tr style=\"text-align: right;\">\n",
       "      <th></th>\n",
       "      <th>PassengerId</th>\n",
       "      <th>Survived</th>\n",
       "      <th>Pclass</th>\n",
       "      <th>Age</th>\n",
       "      <th>SibSp</th>\n",
       "      <th>Parch</th>\n",
       "      <th>Fare</th>\n",
       "    </tr>\n",
       "  </thead>\n",
       "  <tbody>\n",
       "    <tr>\n",
       "      <th>count</th>\n",
       "      <td>891.000000</td>\n",
       "      <td>891.000000</td>\n",
       "      <td>891.000000</td>\n",
       "      <td>714.000000</td>\n",
       "      <td>891.000000</td>\n",
       "      <td>891.000000</td>\n",
       "      <td>891.000000</td>\n",
       "    </tr>\n",
       "    <tr>\n",
       "      <th>mean</th>\n",
       "      <td>446.000000</td>\n",
       "      <td>0.383838</td>\n",
       "      <td>2.308642</td>\n",
       "      <td>29.699118</td>\n",
       "      <td>0.523008</td>\n",
       "      <td>0.381594</td>\n",
       "      <td>32.204208</td>\n",
       "    </tr>\n",
       "    <tr>\n",
       "      <th>std</th>\n",
       "      <td>257.353842</td>\n",
       "      <td>0.486592</td>\n",
       "      <td>0.836071</td>\n",
       "      <td>14.526497</td>\n",
       "      <td>1.102743</td>\n",
       "      <td>0.806057</td>\n",
       "      <td>49.693429</td>\n",
       "    </tr>\n",
       "    <tr>\n",
       "      <th>min</th>\n",
       "      <td>1.000000</td>\n",
       "      <td>0.000000</td>\n",
       "      <td>1.000000</td>\n",
       "      <td>0.420000</td>\n",
       "      <td>0.000000</td>\n",
       "      <td>0.000000</td>\n",
       "      <td>0.000000</td>\n",
       "    </tr>\n",
       "    <tr>\n",
       "      <th>25%</th>\n",
       "      <td>223.500000</td>\n",
       "      <td>0.000000</td>\n",
       "      <td>2.000000</td>\n",
       "      <td>20.125000</td>\n",
       "      <td>0.000000</td>\n",
       "      <td>0.000000</td>\n",
       "      <td>7.910400</td>\n",
       "    </tr>\n",
       "    <tr>\n",
       "      <th>50%</th>\n",
       "      <td>446.000000</td>\n",
       "      <td>0.000000</td>\n",
       "      <td>3.000000</td>\n",
       "      <td>28.000000</td>\n",
       "      <td>0.000000</td>\n",
       "      <td>0.000000</td>\n",
       "      <td>14.454200</td>\n",
       "    </tr>\n",
       "    <tr>\n",
       "      <th>75%</th>\n",
       "      <td>668.500000</td>\n",
       "      <td>1.000000</td>\n",
       "      <td>3.000000</td>\n",
       "      <td>38.000000</td>\n",
       "      <td>1.000000</td>\n",
       "      <td>0.000000</td>\n",
       "      <td>31.000000</td>\n",
       "    </tr>\n",
       "    <tr>\n",
       "      <th>max</th>\n",
       "      <td>891.000000</td>\n",
       "      <td>1.000000</td>\n",
       "      <td>3.000000</td>\n",
       "      <td>80.000000</td>\n",
       "      <td>8.000000</td>\n",
       "      <td>6.000000</td>\n",
       "      <td>512.329200</td>\n",
       "    </tr>\n",
       "  </tbody>\n",
       "</table>\n",
       "</div>"
      ],
      "text/plain": [
       "       PassengerId    Survived      Pclass         Age       SibSp  \\\n",
       "count   891.000000  891.000000  891.000000  714.000000  891.000000   \n",
       "mean    446.000000    0.383838    2.308642   29.699118    0.523008   \n",
       "std     257.353842    0.486592    0.836071   14.526497    1.102743   \n",
       "min       1.000000    0.000000    1.000000    0.420000    0.000000   \n",
       "25%     223.500000    0.000000    2.000000   20.125000    0.000000   \n",
       "50%     446.000000    0.000000    3.000000   28.000000    0.000000   \n",
       "75%     668.500000    1.000000    3.000000   38.000000    1.000000   \n",
       "max     891.000000    1.000000    3.000000   80.000000    8.000000   \n",
       "\n",
       "            Parch        Fare  \n",
       "count  891.000000  891.000000  \n",
       "mean     0.381594   32.204208  \n",
       "std      0.806057   49.693429  \n",
       "min      0.000000    0.000000  \n",
       "25%      0.000000    7.910400  \n",
       "50%      0.000000   14.454200  \n",
       "75%      0.000000   31.000000  \n",
       "max      6.000000  512.329200  "
      ]
     },
     "execution_count": 117,
     "metadata": {},
     "output_type": "execute_result"
    }
   ],
   "source": [
    "df1.describe()"
   ]
  },
  {
   "cell_type": "markdown",
   "id": "8341ed43",
   "metadata": {},
   "source": [
    "**Age,cabin and embarked have null values\n",
    "| Age can be filled with mean values, and embaked with mode of the data\n",
    "| Name, Ticket and passenger ID seem to be redundant in the study**"
   ]
  },
  {
   "cell_type": "code",
   "execution_count": 118,
   "id": "2ef18f76",
   "metadata": {},
   "outputs": [
    {
     "name": "stdout",
     "output_type": "stream",
     "text": [
      "3 3 2\n"
     ]
    }
   ],
   "source": [
    "print(df1.Pclass.nunique(),df1.Embarked.nunique(),df1.Sex.nunique())"
   ]
  },
  {
   "cell_type": "code",
   "execution_count": 119,
   "id": "f62b3610",
   "metadata": {},
   "outputs": [
    {
     "data": {
      "text/plain": [
       "array(['S', 'C', 'Q', nan], dtype=object)"
      ]
     },
     "execution_count": 119,
     "metadata": {},
     "output_type": "execute_result"
    }
   ],
   "source": [
    "df1.Embarked.unique()\n",
    "#print(df1.Ticket.tolist())"
   ]
  },
  {
   "cell_type": "code",
   "execution_count": 120,
   "id": "215049de",
   "metadata": {},
   "outputs": [],
   "source": [
    "#df1[df1['Sex']=='male'].Age.mean() #30.72\n",
    "#df1[df1['Sex']=='female'].Age.mean() #27.91"
   ]
  },
  {
   "cell_type": "code",
   "execution_count": 121,
   "id": "bddedf29",
   "metadata": {},
   "outputs": [
    {
     "name": "stdout",
     "output_type": "stream",
     "text": [
      "male      577\n",
      "female    314\n",
      "Name: Sex, dtype: int64 \n",
      "\n",
      "3    491\n",
      "1    216\n",
      "2    184\n",
      "Name: Pclass, dtype: int64 \n",
      "\n",
      "S    644\n",
      "C    168\n",
      "Q     77\n",
      "Name: Embarked, dtype: int64 \n",
      "\n"
     ]
    }
   ],
   "source": [
    "print(df1.Sex.value_counts(),'\\n')\n",
    "print(df1.Pclass.value_counts(),'\\n')\n",
    "print(df1.Embarked.value_counts(),'\\n')"
   ]
  },
  {
   "cell_type": "code",
   "execution_count": 122,
   "id": "b48de03f",
   "metadata": {},
   "outputs": [
    {
     "data": {
      "text/plain": [
       "<AxesSubplot:xlabel='Sex'>"
      ]
     },
     "execution_count": 122,
     "metadata": {},
     "output_type": "execute_result"
    },
    {
     "data": {
      "image/png": "[encoded data removed]",
      "text/plain": [
       "<Figure size 432x288 with 1 Axes>"
      ]
     },
     "metadata": {
      "needs_background": "light"
     },
     "output_type": "display_data"
    }
   ],
   "source": [
    "pd.pivot_table(df1,index=['Sex'],columns=['Pclass'],values=['Survived'],aggfunc=np.mean).plot(kind = 'bar')"
   ]
  },
  {
   "cell_type": "markdown",
   "id": "6c8a16db",
   "metadata": {},
   "source": [
    "**Females with cabin class 1 had very high chance sof survival and generally as the cabin class loweres the chance of survival also lower. Also over all survival chances of female is high.**"
   ]
  },
  {
   "cell_type": "code",
   "execution_count": 123,
   "id": "130e58d7",
   "metadata": {},
   "outputs": [
    {
     "data": {
      "text/plain": [
       "<AxesSubplot:xlabel='Embarked'>"
      ]
     },
     "execution_count": 123,
     "metadata": {},
     "output_type": "execute_result"
    },
    {
     "data": {
      "image/png": "[encoded data removed]",
      "text/plain": [
       "<Figure size 432x288 with 1 Axes>"
      ]
     },
     "metadata": {
      "needs_background": "light"
     },
     "output_type": "display_data"
    }
   ],
   "source": [
    "pd.pivot_table(df1,index=['Embarked'],values=['Survived'],aggfunc=np.mean).plot(kind = 'bar')"
   ]
  },
  {
   "cell_type": "code",
   "execution_count": 124,
   "id": "723de2e2",
   "metadata": {},
   "outputs": [
    {
     "data": {
      "text/plain": [
       "<AxesSubplot:ylabel='Count'>"
      ]
     },
     "execution_count": 124,
     "metadata": {},
     "output_type": "execute_result"
    },
    {
     "data": {
      "image/png": "[encoded data removed]",
      "text/plain": [
       "<Figure size 432x288 with 1 Axes>"
      ]
     },
     "metadata": {
      "needs_background": "light"
     },
     "output_type": "display_data"
    }
   ],
   "source": [
    "sns.histplot([df1.Age])"
   ]
  },
  {
   "cell_type": "code",
   "execution_count": 125,
   "id": "5cb6ed7d",
   "metadata": {},
   "outputs": [],
   "source": [
    "#segregating people based on age into 3 segments, ignoring null values for now\n",
    "def age_seg(x):\n",
    "    if x<10:\n",
    "        return 0\n",
    "    elif x>=10 and x<50:\n",
    "        return 1\n",
    "    elif x>50:\n",
    "        return 2\n",
    "    return 3\n",
    "    "
   ]
  },
  {
   "cell_type": "code",
   "execution_count": 126,
   "id": "fb9b6a7a",
   "metadata": {},
   "outputs": [
    {
     "data": {
      "text/plain": [
       "1    578\n",
       "3    187\n",
       "2     64\n",
       "0     62\n",
       "Name: age_seg, dtype: int64"
      ]
     },
     "execution_count": 126,
     "metadata": {},
     "output_type": "execute_result"
    }
   ],
   "source": [
    "df1['age_seg'] = df1.Age.apply(age_seg)\n",
    "df1['age_seg'].value_counts()"
   ]
  },
  {
   "cell_type": "code",
   "execution_count": 127,
   "id": "5d0fa88a",
   "metadata": {},
   "outputs": [
    {
     "data": {
      "text/plain": [
       "<AxesSubplot:xlabel='age_seg'>"
      ]
     },
     "execution_count": 127,
     "metadata": {},
     "output_type": "execute_result"
    },
    {
     "data": {
      "image/png": "[encoded data removed]",
      "text/plain": [
       "<Figure size 432x288 with 1 Axes>"
      ]
     },
     "metadata": {
      "needs_background": "light"
     },
     "output_type": "display_data"
    }
   ],
   "source": [
    "pd.pivot_table(df1,index=['age_seg'],values=['Survived'],aggfunc=np.mean).plot(kind = 'bar')"
   ]
  },
  {
   "cell_type": "markdown",
   "id": "edb9cb8a",
   "metadata": {},
   "source": [
    "**As seen here lower age group children also had a higher chance of survival.**"
   ]
  },
  {
   "cell_type": "code",
   "execution_count": 128,
   "id": "152b3fc5",
   "metadata": {},
   "outputs": [
    {
     "data": {
      "text/plain": [
       "<AxesSubplot:ylabel='Count'>"
      ]
     },
     "execution_count": 128,
     "metadata": {},
     "output_type": "execute_result"
    },
    {
     "data": {
      "image/png": "[encoded data removed]",
      "text/plain": [
       "<Figure size 432x288 with 1 Axes>"
      ]
     },
     "metadata": {
      "needs_background": "light"
     },
     "output_type": "display_data"
    }
   ],
   "source": [
    "sns.histplot([df1.Fare], bins = 10)"
   ]
  },
  {
   "cell_type": "code",
   "execution_count": 129,
   "id": "75414280",
   "metadata": {},
   "outputs": [],
   "source": [
    "#segregating people based on Fare into 3 segments\n",
    "q1 = df1.Fare.quantile(0.33)\n",
    "q2 = df1.Fare.quantile(0.66)\n",
    "def fare_seg(x):\n",
    "    if x<q1:\n",
    "        return 0\n",
    "    elif x>=q1 and x<q2:\n",
    "        return 1\n",
    "    elif x>=q2:\n",
    "        return 2\n",
    "    return 3"
   ]
  },
  {
   "cell_type": "code",
   "execution_count": 130,
   "id": "e0eb44ca",
   "metadata": {},
   "outputs": [
    {
     "data": {
      "text/plain": [
       "2    326\n",
       "0    294\n",
       "1    271\n",
       "Name: fare_seg, dtype: int64"
      ]
     },
     "execution_count": 130,
     "metadata": {},
     "output_type": "execute_result"
    }
   ],
   "source": [
    "df1['fare_seg'] = df1.Fare.apply(fare_seg)\n",
    "df1['fare_seg'].value_counts()"
   ]
  },
  {
   "cell_type": "code",
   "execution_count": 131,
   "id": "8c717e1c",
   "metadata": {},
   "outputs": [
    {
     "data": {
      "text/plain": [
       "<AxesSubplot:xlabel='fare_seg'>"
      ]
     },
     "execution_count": 131,
     "metadata": {},
     "output_type": "execute_result"
    },
    {
     "data": {
      "image/png": "[encoded data removed]",
      "text/plain": [
       "<Figure size 432x288 with 1 Axes>"
      ]
     },
     "metadata": {
      "needs_background": "light"
     },
     "output_type": "display_data"
    }
   ],
   "source": [
    "pd.pivot_table(df1,index=['fare_seg'],values=['Survived'],aggfunc='mean').plot(kind = 'bar')"
   ]
  },
  {
   "cell_type": "markdown",
   "id": "a5eeaa56",
   "metadata": {},
   "source": [
    "**Again it can be seen people who payed more for the tickets had higher chances of survival (count here is similar in the 3 quantiles)**"
   ]
  },
  {
   "cell_type": "code",
   "execution_count": 132,
   "id": "ffafabd0",
   "metadata": {},
   "outputs": [
    {
     "data": {
      "text/html": [
       "<div>\n",
       "<style scoped>\n",
       "    .dataframe tbody tr th:only-of-type {\n",
       "        vertical-align: middle;\n",
       "    }\n",
       "\n",
       "    .dataframe tbody tr th {\n",
       "        vertical-align: top;\n",
       "    }\n",
       "\n",
       "    .dataframe thead th {\n",
       "        text-align: right;\n",
       "    }\n",
       "</style>\n",
       "<table border=\"1\" class=\"dataframe\">\n",
       "  <thead>\n",
       "    <tr style=\"text-align: right;\">\n",
       "      <th></th>\n",
       "      <th>PassengerId</th>\n",
       "      <th>Survived</th>\n",
       "      <th>Pclass</th>\n",
       "      <th>Name</th>\n",
       "      <th>Sex</th>\n",
       "      <th>Age</th>\n",
       "      <th>SibSp</th>\n",
       "      <th>Parch</th>\n",
       "      <th>Ticket</th>\n",
       "      <th>Fare</th>\n",
       "      <th>Cabin</th>\n",
       "      <th>Embarked</th>\n",
       "      <th>age_seg</th>\n",
       "      <th>fare_seg</th>\n",
       "    </tr>\n",
       "  </thead>\n",
       "  <tbody>\n",
       "    <tr>\n",
       "      <th>258</th>\n",
       "      <td>259</td>\n",
       "      <td>1</td>\n",
       "      <td>1</td>\n",
       "      <td>Ward, Miss. Anna</td>\n",
       "      <td>female</td>\n",
       "      <td>35.0</td>\n",
       "      <td>0</td>\n",
       "      <td>0</td>\n",
       "      <td>PC 17755</td>\n",
       "      <td>512.3292</td>\n",
       "      <td>NaN</td>\n",
       "      <td>C</td>\n",
       "      <td>1</td>\n",
       "      <td>2</td>\n",
       "    </tr>\n",
       "    <tr>\n",
       "      <th>679</th>\n",
       "      <td>680</td>\n",
       "      <td>1</td>\n",
       "      <td>1</td>\n",
       "      <td>Cardeza, Mr. Thomas Drake Martinez</td>\n",
       "      <td>male</td>\n",
       "      <td>36.0</td>\n",
       "      <td>0</td>\n",
       "      <td>1</td>\n",
       "      <td>PC 17755</td>\n",
       "      <td>512.3292</td>\n",
       "      <td>B51 B53 B55</td>\n",
       "      <td>C</td>\n",
       "      <td>1</td>\n",
       "      <td>2</td>\n",
       "    </tr>\n",
       "    <tr>\n",
       "      <th>737</th>\n",
       "      <td>738</td>\n",
       "      <td>1</td>\n",
       "      <td>1</td>\n",
       "      <td>Lesurer, Mr. Gustave J</td>\n",
       "      <td>male</td>\n",
       "      <td>35.0</td>\n",
       "      <td>0</td>\n",
       "      <td>0</td>\n",
       "      <td>PC 17755</td>\n",
       "      <td>512.3292</td>\n",
       "      <td>B101</td>\n",
       "      <td>C</td>\n",
       "      <td>1</td>\n",
       "      <td>2</td>\n",
       "    </tr>\n",
       "  </tbody>\n",
       "</table>\n",
       "</div>"
      ],
      "text/plain": [
       "     PassengerId  Survived  Pclass                                Name  \\\n",
       "258          259         1       1                    Ward, Miss. Anna   \n",
       "679          680         1       1  Cardeza, Mr. Thomas Drake Martinez   \n",
       "737          738         1       1              Lesurer, Mr. Gustave J   \n",
       "\n",
       "        Sex   Age  SibSp  Parch    Ticket      Fare        Cabin Embarked  \\\n",
       "258  female  35.0      0      0  PC 17755  512.3292          NaN        C   \n",
       "679    male  36.0      0      1  PC 17755  512.3292  B51 B53 B55        C   \n",
       "737    male  35.0      0      0  PC 17755  512.3292         B101        C   \n",
       "\n",
       "     age_seg  fare_seg  \n",
       "258        1         2  \n",
       "679        1         2  \n",
       "737        1         2  "
      ]
     },
     "execution_count": 132,
     "metadata": {},
     "output_type": "execute_result"
    }
   ],
   "source": [
    "df1[df1.Fare >= 400] #super high fare all survived"
   ]
  },
  {
   "cell_type": "code",
   "execution_count": 133,
   "id": "96c935eb",
   "metadata": {},
   "outputs": [
    {
     "data": {
      "text/plain": [
       "<AxesSubplot:xlabel='Fare', ylabel='Count'>"
      ]
     },
     "execution_count": 133,
     "metadata": {},
     "output_type": "execute_result"
    },
    {
     "data": {
      "image/png": "[encoded data removed]",
      "text/plain": [
       "<Figure size 432x288 with 1 Axes>"
      ]
     },
     "metadata": {
      "needs_background": "light"
     },
     "output_type": "display_data"
    }
   ],
   "source": [
    "df1.Fare = np.log(df1.Fare+1)\n",
    "sns.histplot(df1.Fare)"
   ]
  },
  {
   "cell_type": "code",
   "execution_count": 134,
   "id": "2ab402a2",
   "metadata": {},
   "outputs": [
    {
     "name": "stdout",
     "output_type": "stream",
     "text": [
      "<class 'pandas.core.frame.DataFrame'>\n",
      "Int64Index: 891 entries, 0 to 890\n",
      "Data columns (total 14 columns):\n",
      " #   Column       Non-Null Count  Dtype  \n",
      "---  ------       --------------  -----  \n",
      " 0   PassengerId  891 non-null    int64  \n",
      " 1   Survived     891 non-null    int64  \n",
      " 2   Pclass       891 non-null    int64  \n",
      " 3   Name         891 non-null    object \n",
      " 4   Sex          891 non-null    object \n",
      " 5   Age          714 non-null    float64\n",
      " 6   SibSp        891 non-null    int64  \n",
      " 7   Parch        891 non-null    int64  \n",
      " 8   Ticket       891 non-null    object \n",
      " 9   Fare         891 non-null    float64\n",
      " 10  Cabin        204 non-null    object \n",
      " 11  Embarked     889 non-null    object \n",
      " 12  age_seg      891 non-null    int64  \n",
      " 13  fare_seg     891 non-null    int64  \n",
      "dtypes: float64(2), int64(7), object(5)\n",
      "memory usage: 104.4+ KB\n"
     ]
    }
   ],
   "source": [
    "df1.drop(df1[df1.Fare >= 400].index, inplace = True)\n",
    "df1.info()"
   ]
  },
  {
   "cell_type": "code",
   "execution_count": 135,
   "id": "ba58a06b",
   "metadata": {},
   "outputs": [],
   "source": [
    "#cabin seems to be the ID of cabins a person booked, we can take the count from here as a reference\n",
    "def cabins(x):\n",
    "    if pd.isna(x):\n",
    "        return 0\n",
    "    else:\n",
    "        return 1#len(x.split(' '))"
   ]
  },
  {
   "cell_type": "code",
   "execution_count": 136,
   "id": "22fd6192",
   "metadata": {},
   "outputs": [
    {
     "data": {
      "text/plain": [
       "0    687\n",
       "1    204\n",
       "Name: ncab, dtype: int64"
      ]
     },
     "execution_count": 136,
     "metadata": {},
     "output_type": "execute_result"
    }
   ],
   "source": [
    "df1['ncab'] = df1.Cabin.apply(cabins)\n",
    "df1.ncab.value_counts()"
   ]
  },
  {
   "cell_type": "code",
   "execution_count": 137,
   "id": "ad73431d",
   "metadata": {},
   "outputs": [
    {
     "data": {
      "text/plain": [
       "<AxesSubplot:xlabel='ncab'>"
      ]
     },
     "execution_count": 137,
     "metadata": {},
     "output_type": "execute_result"
    },
    {
     "data": {
      "image/png": "[encoded data removed]",
      "text/plain": [
       "<Figure size 432x288 with 1 Axes>"
      ]
     },
     "metadata": {
      "needs_background": "light"
     },
     "output_type": "display_data"
    }
   ],
   "source": [
    "pd.pivot_table(df1,index=['ncab'],values=['Survived'],aggfunc='mean').plot(kind = 'bar')"
   ]
  },
  {
   "cell_type": "markdown",
   "id": "db3c1268",
   "metadata": {},
   "source": [
    "**People who booked a cabin had higher chances of survival it seems**"
   ]
  },
  {
   "cell_type": "code",
   "execution_count": 138,
   "id": "26530269",
   "metadata": {},
   "outputs": [
    {
     "data": {
      "text/html": [
       "<div>\n",
       "<style scoped>\n",
       "    .dataframe tbody tr th:only-of-type {\n",
       "        vertical-align: middle;\n",
       "    }\n",
       "\n",
       "    .dataframe tbody tr th {\n",
       "        vertical-align: top;\n",
       "    }\n",
       "\n",
       "    .dataframe thead tr th {\n",
       "        text-align: left;\n",
       "    }\n",
       "\n",
       "    .dataframe thead tr:last-of-type th {\n",
       "        text-align: right;\n",
       "    }\n",
       "</style>\n",
       "<table border=\"1\" class=\"dataframe\">\n",
       "  <thead>\n",
       "    <tr>\n",
       "      <th></th>\n",
       "      <th colspan=\"3\" halign=\"left\">Survived</th>\n",
       "    </tr>\n",
       "    <tr>\n",
       "      <th>fare_seg</th>\n",
       "      <th>0</th>\n",
       "      <th>1</th>\n",
       "      <th>2</th>\n",
       "    </tr>\n",
       "    <tr>\n",
       "      <th>ncab</th>\n",
       "      <th></th>\n",
       "      <th></th>\n",
       "      <th></th>\n",
       "    </tr>\n",
       "  </thead>\n",
       "  <tbody>\n",
       "    <tr>\n",
       "      <th>0</th>\n",
       "      <td>0.207018</td>\n",
       "      <td>0.344000</td>\n",
       "      <td>0.401316</td>\n",
       "    </tr>\n",
       "    <tr>\n",
       "      <th>1</th>\n",
       "      <td>0.111111</td>\n",
       "      <td>0.761905</td>\n",
       "      <td>0.683908</td>\n",
       "    </tr>\n",
       "  </tbody>\n",
       "</table>\n",
       "</div>"
      ],
      "text/plain": [
       "          Survived                    \n",
       "fare_seg         0         1         2\n",
       "ncab                                  \n",
       "0         0.207018  0.344000  0.401316\n",
       "1         0.111111  0.761905  0.683908"
      ]
     },
     "execution_count": 138,
     "metadata": {},
     "output_type": "execute_result"
    }
   ],
   "source": [
    "pd.pivot_table(df1, index = ['ncab'], columns = ['fare_seg'], values = ['Survived'], aggfunc = 'mean')"
   ]
  },
  {
   "cell_type": "code",
   "execution_count": null,
   "id": "a6883289",
   "metadata": {},
   "outputs": [],
   "source": []
  },
  {
   "cell_type": "code",
   "execution_count": 139,
   "id": "12860df2",
   "metadata": {},
   "outputs": [
    {
     "data": {
      "text/plain": [
       "<AxesSubplot:>"
      ]
     },
     "execution_count": 139,
     "metadata": {},
     "output_type": "execute_result"
    },
    {
     "data": {
      "image/png": "[encoded data removed]",
      "text/plain": [
       "<Figure size 432x288 with 2 Axes>"
      ]
     },
     "metadata": {
      "needs_background": "light"
     },
     "output_type": "display_data"
    }
   ],
   "source": [
    "sns.heatmap(df1[['Age','Fare', 'Parch', 'SibSp']].corr())"
   ]
  },
  {
   "cell_type": "code",
   "execution_count": null,
   "id": "1238b057",
   "metadata": {},
   "outputs": [],
   "source": []
  },
  {
   "cell_type": "code",
   "execution_count": null,
   "id": "bea09b96",
   "metadata": {},
   "outputs": [],
   "source": []
  },
  {
   "cell_type": "markdown",
   "id": "0cb9c205",
   "metadata": {},
   "source": [
    "### Data preprocessing for the model"
   ]
  },
  {
   "cell_type": "code",
   "execution_count": 140,
   "id": "0eebfef0",
   "metadata": {},
   "outputs": [],
   "source": [
    "df2 = pd.read_csv('./train.csv')\n",
    "dft1 = pd.read_csv('./test.csv')"
   ]
  },
  {
   "cell_type": "code",
   "execution_count": 141,
   "id": "fdfbf9f7",
   "metadata": {},
   "outputs": [],
   "source": [
    "from sklearn.preprocessing import StandardScaler\n",
    "scale = StandardScaler()\n",
    "\n",
    "def preprocess(dfin):\n",
    "    dfi = dfin.copy(deep = True)\n",
    "    dfi.drop(['PassengerId','Name','Ticket'], axis = 1, inplace = True)\n",
    "    dfi['Cabin'] = dfi.Cabin.apply(cabins)\n",
    "    dfi.Age.fillna(dfi.Age.mean(), inplace = True)\n",
    "    dfi.Embarked.replace({'S': 1, 'C':2, 'Q':3, np.nan:1}, inplace = True)\n",
    "#    dfi.drop(dfi[dfi.Fare >= 400].index, inplace = True)\n",
    "    dfi.Fare.fillna(dfi.Fare.median(), inplace = True)   ##fare missing in test set\n",
    "    dfi.Fare = np.log(dfi.Fare + 1)\n",
    "    dfi.dropna(axis = 0, inplace = True)\n",
    "    dfi['Sex'] = dfi.Sex.apply(lambda x: 0 if x=='male' else 1)\n",
    "    dfi[['Age','SibSp','Parch','Fare']] = scale.fit_transform(dfi[['Age','SibSp','Parch','Fare']])\n",
    "    return dfi"
   ]
  },
  {
   "cell_type": "code",
   "execution_count": 142,
   "id": "aae5f12b",
   "metadata": {},
   "outputs": [],
   "source": [
    "df2 = preprocess(df2)"
   ]
  },
  {
   "cell_type": "code",
   "execution_count": 143,
   "id": "9c7df2e0",
   "metadata": {},
   "outputs": [
    {
     "data": {
      "text/html": [
       "<div>\n",
       "<style scoped>\n",
       "    .dataframe tbody tr th:only-of-type {\n",
       "        vertical-align: middle;\n",
       "    }\n",
       "\n",
       "    .dataframe tbody tr th {\n",
       "        vertical-align: top;\n",
       "    }\n",
       "\n",
       "    .dataframe thead th {\n",
       "        text-align: right;\n",
       "    }\n",
       "</style>\n",
       "<table border=\"1\" class=\"dataframe\">\n",
       "  <thead>\n",
       "    <tr style=\"text-align: right;\">\n",
       "      <th></th>\n",
       "      <th>Pclass</th>\n",
       "      <th>Sex</th>\n",
       "      <th>Age</th>\n",
       "      <th>SibSp</th>\n",
       "      <th>Parch</th>\n",
       "      <th>Fare</th>\n",
       "      <th>Cabin</th>\n",
       "      <th>Embarked</th>\n",
       "    </tr>\n",
       "  </thead>\n",
       "  <tbody>\n",
       "    <tr>\n",
       "      <th>0</th>\n",
       "      <td>3</td>\n",
       "      <td>0</td>\n",
       "      <td>0.334993</td>\n",
       "      <td>-0.499470</td>\n",
       "      <td>-0.400248</td>\n",
       "      <td>-0.867031</td>\n",
       "      <td>0</td>\n",
       "      <td>3</td>\n",
       "    </tr>\n",
       "    <tr>\n",
       "      <th>1</th>\n",
       "      <td>3</td>\n",
       "      <td>1</td>\n",
       "      <td>1.325530</td>\n",
       "      <td>0.616992</td>\n",
       "      <td>-0.400248</td>\n",
       "      <td>-0.969149</td>\n",
       "      <td>0</td>\n",
       "      <td>1</td>\n",
       "    </tr>\n",
       "    <tr>\n",
       "      <th>2</th>\n",
       "      <td>2</td>\n",
       "      <td>0</td>\n",
       "      <td>2.514175</td>\n",
       "      <td>-0.499470</td>\n",
       "      <td>-0.400248</td>\n",
       "      <td>-0.669252</td>\n",
       "      <td>0</td>\n",
       "      <td>3</td>\n",
       "    </tr>\n",
       "    <tr>\n",
       "      <th>3</th>\n",
       "      <td>3</td>\n",
       "      <td>0</td>\n",
       "      <td>-0.259330</td>\n",
       "      <td>-0.499470</td>\n",
       "      <td>-0.400248</td>\n",
       "      <td>-0.773647</td>\n",
       "      <td>0</td>\n",
       "      <td>1</td>\n",
       "    </tr>\n",
       "    <tr>\n",
       "      <th>4</th>\n",
       "      <td>3</td>\n",
       "      <td>1</td>\n",
       "      <td>-0.655545</td>\n",
       "      <td>0.616992</td>\n",
       "      <td>0.619896</td>\n",
       "      <td>-0.443786</td>\n",
       "      <td>0</td>\n",
       "      <td>1</td>\n",
       "    </tr>\n",
       "  </tbody>\n",
       "</table>\n",
       "</div>"
      ],
      "text/plain": [
       "   Pclass  Sex       Age     SibSp     Parch      Fare  Cabin  Embarked\n",
       "0       3    0  0.334993 -0.499470 -0.400248 -0.867031      0         3\n",
       "1       3    1  1.325530  0.616992 -0.400248 -0.969149      0         1\n",
       "2       2    0  2.514175 -0.499470 -0.400248 -0.669252      0         3\n",
       "3       3    0 -0.259330 -0.499470 -0.400248 -0.773647      0         1\n",
       "4       3    1 -0.655545  0.616992  0.619896 -0.443786      0         1"
      ]
     },
     "execution_count": 143,
     "metadata": {},
     "output_type": "execute_result"
    }
   ],
   "source": [
    "dft = preprocess(dft1)\n",
    "dft.head()"
   ]
  },
  {
   "cell_type": "code",
   "execution_count": 144,
   "id": "e41959b6",
   "metadata": {},
   "outputs": [
    {
     "data": {
      "text/plain": [
       "418"
      ]
     },
     "execution_count": 144,
     "metadata": {},
     "output_type": "execute_result"
    }
   ],
   "source": [
    "X_test = dft\n",
    "len(X_test)"
   ]
  },
  {
   "cell_type": "code",
   "execution_count": null,
   "id": "28c942a9",
   "metadata": {},
   "outputs": [],
   "source": []
  },
  {
   "cell_type": "markdown",
   "id": "5205423a",
   "metadata": {},
   "source": [
    "### Training models for prediction"
   ]
  },
  {
   "cell_type": "code",
   "execution_count": 77,
   "id": "87b95f27",
   "metadata": {},
   "outputs": [],
   "source": [
    "from sklearn.model_selection import cross_val_score\n",
    "from sklearn.naive_bayes import GaussianNB\n",
    "from sklearn.linear_model import LogisticRegression\n",
    "from sklearn import tree\n",
    "from sklearn.neighbors import KNeighborsClassifier\n",
    "from sklearn.ensemble import RandomForestClassifier\n",
    "from sklearn.svm import SVC"
   ]
  },
  {
   "cell_type": "code",
   "execution_count": 78,
   "id": "12cc8004",
   "metadata": {},
   "outputs": [],
   "source": [
    "X_train = df2.drop(['Survived'], axis = 1)\n",
    "y_train = df2['Survived']"
   ]
  },
  {
   "cell_type": "code",
   "execution_count": 79,
   "id": "ef1900ec",
   "metadata": {},
   "outputs": [
    {
     "name": "stdout",
     "output_type": "stream",
     "text": [
      "[0.74860335 0.75280899 0.76966292 0.79775281 0.79775281]\n",
      "0.773316176009039\n"
     ]
    }
   ],
   "source": [
    "gnb = GaussianNB()\n",
    "cv = cross_val_score(gnb,X_train,y_train,cv=5)\n",
    "print(cv)\n",
    "print(cv.mean())"
   ]
  },
  {
   "cell_type": "code",
   "execution_count": 104,
   "id": "ac327441",
   "metadata": {},
   "outputs": [
    {
     "name": "stdout",
     "output_type": "stream",
     "text": [
      "[0.7877095  0.79775281 0.78651685 0.78089888 0.8258427 ]\n",
      "0.795744146632352\n"
     ]
    }
   ],
   "source": [
    "lr = LogisticRegression(max_iter = 2000)\n",
    "cv = cross_val_score(lr,X_train,y_train,cv=5)\n",
    "print(cv)\n",
    "print(cv.mean())"
   ]
  },
  {
   "cell_type": "code",
   "execution_count": 81,
   "id": "1a506699",
   "metadata": {},
   "outputs": [
    {
     "name": "stdout",
     "output_type": "stream",
     "text": [
      "[0.73743017 0.76966292 0.84831461 0.76404494 0.83707865]\n",
      "0.7913062582386542\n"
     ]
    }
   ],
   "source": [
    "dt = tree.DecisionTreeClassifier(random_state = 1)\n",
    "cv = cross_val_score(dt,X_train,y_train,cv=5)\n",
    "print(cv)\n",
    "print(cv.mean())"
   ]
  },
  {
   "cell_type": "code",
   "execution_count": 82,
   "id": "0f1829ec",
   "metadata": {},
   "outputs": [
    {
     "name": "stdout",
     "output_type": "stream",
     "text": [
      "[0.76536313 0.75842697 0.81460674 0.79775281 0.8258427 ]\n",
      "0.7923984683949532\n"
     ]
    }
   ],
   "source": [
    "knn = KNeighborsClassifier()\n",
    "cv = cross_val_score(knn,X_train,y_train,cv=5)\n",
    "print(cv)\n",
    "print(cv.mean())"
   ]
  },
  {
   "cell_type": "code",
   "execution_count": 103,
   "id": "061c0c1a",
   "metadata": {},
   "outputs": [
    {
     "name": "stdout",
     "output_type": "stream",
     "text": [
      "[0.75977654 0.79213483 0.84831461 0.76966292 0.85955056]\n",
      "0.8058878915322326\n"
     ]
    }
   ],
   "source": [
    "rf = RandomForestClassifier(random_state = 1)\n",
    "cv = cross_val_score(rf,X_train,y_train,cv=5)\n",
    "print(cv)\n",
    "print(cv.mean())"
   ]
  },
  {
   "cell_type": "code",
   "execution_count": 84,
   "id": "9c4b7507",
   "metadata": {},
   "outputs": [
    {
     "name": "stdout",
     "output_type": "stream",
     "text": [
      "[0.82681564 0.82022472 0.80898876 0.80337079 0.83146067]\n",
      "0.8181721172556651\n"
     ]
    }
   ],
   "source": [
    "svc = SVC(probability = True)\n",
    "cv = cross_val_score(svc,X_train,y_train,cv=5)\n",
    "print(cv)\n",
    "print(cv.mean())"
   ]
  },
  {
   "cell_type": "code",
   "execution_count": 85,
   "id": "b7d06faa",
   "metadata": {},
   "outputs": [],
   "source": [
    "from sklearn.ensemble import VotingClassifier\n",
    "voting_clf = VotingClassifier(estimators = [('lr',lr),('knn',knn),('rf',rf),('gnb',gnb),('svc',svc)], voting = 'soft') "
   ]
  },
  {
   "cell_type": "code",
   "execution_count": 86,
   "id": "020d6388",
   "metadata": {},
   "outputs": [
    {
     "name": "stdout",
     "output_type": "stream",
     "text": [
      "[0.81005587 0.79213483 0.8258427  0.80337079 0.8258427 ]\n",
      "0.8114493754315486\n"
     ]
    }
   ],
   "source": [
    "cv = cross_val_score(voting_clf,X_train,y_train,cv=5)\n",
    "print(cv)\n",
    "print(cv.mean())"
   ]
  },
  {
   "cell_type": "code",
   "execution_count": 101,
   "id": "409a34b1",
   "metadata": {},
   "outputs": [],
   "source": [
    "# rf.fit(X_train,y_train)\n",
    "# y_hat_base_vc = rf.predict(X_test).astype(int)\n",
    "# basic_submission = {'PassengerId': dft1.PassengerId, 'Survived': y_hat_base_vc}\n",
    "# base_submission = pd.DataFrame(basic_submission)\n",
    "# base_submission.to_csv('base_submission.csv', index=False)"
   ]
  },
  {
   "cell_type": "code",
   "execution_count": 94,
   "id": "bc8dd8d8",
   "metadata": {},
   "outputs": [
    {
     "name": "stdout",
     "output_type": "stream",
     "text": [
      "{'min_samples_split': 5, 'n_estimators': 1000}\n"
     ]
    }
   ],
   "source": [
    "from sklearn.model_selection import GridSearchCV\n",
    "\n",
    "parameters = {\n",
    "    'n_estimators' : [1,10,100,1000],\n",
    "    'min_samples_split' : [2,3,4,5]\n",
    "}\n",
    "\n",
    "gd = GridSearchCV(rf,parameters)\n",
    "\n",
    "gd.fit(X_train, y_train)\n",
    "print(gd.best_params_)"
   ]
  },
  {
   "cell_type": "code",
   "execution_count": 95,
   "id": "fef56a07",
   "metadata": {},
   "outputs": [
    {
     "name": "stdout",
     "output_type": "stream",
     "text": [
      "{'C': 0.1, 'max_iter': 100}\n"
     ]
    }
   ],
   "source": [
    "parameters = {\n",
    "    'max_iter' : [100,500,1000,5000],\n",
    "    'C' : [0.01,0.1,1,10]\n",
    "}\n",
    "\n",
    "gd = GridSearchCV(lr,parameters)\n",
    "\n",
    "gd.fit(X_train, y_train)\n",
    "print(gd.best_params_)"
   ]
  },
  {
   "cell_type": "code",
   "execution_count": 107,
   "id": "d264987a",
   "metadata": {},
   "outputs": [
    {
     "name": "stdout",
     "output_type": "stream",
     "text": [
      "{'degree': 3, 'gamma': 0.1, 'kernel': 'rbf'}\n"
     ]
    }
   ],
   "source": [
    "parameters = {\n",
    "    'kernel' : ['linear', 'rbf', 'sigmoid'],\n",
    "    'degree' : [3,4,5],\n",
    "    'gamma' : [.1,.3,.5]\n",
    "}\n",
    "\n",
    "gd = GridSearchCV(svc,parameters)\n",
    "\n",
    "gd.fit(X_train, y_train)\n",
    "print(gd.best_params_)"
   ]
  },
  {
   "cell_type": "code",
   "execution_count": 111,
   "id": "7dc25a8a",
   "metadata": {},
   "outputs": [
    {
     "name": "stdout",
     "output_type": "stream",
     "text": [
      "{'criterion': 'entropy', 'min_samples_split': 4}\n"
     ]
    }
   ],
   "source": [
    "parameters = {\n",
    "    'criterion' : ['gini', 'entropy'],\n",
    "    'min_samples_split' : [2,3,4,5],\n",
    "}\n",
    "\n",
    "gd = GridSearchCV(dt,parameters)\n",
    "\n",
    "gd.fit(X_train, y_train)\n",
    "print(gd.best_params_)"
   ]
  },
  {
   "cell_type": "code",
   "execution_count": null,
   "id": "a77e0a12",
   "metadata": {},
   "outputs": [],
   "source": []
  },
  {
   "cell_type": "code",
   "execution_count": null,
   "id": "ca7eb20e",
   "metadata": {},
   "outputs": [],
   "source": []
  },
  {
   "cell_type": "code",
   "execution_count": null,
   "id": "67d58ca6",
   "metadata": {},
   "outputs": [],
   "source": []
  },
  {
   "cell_type": "code",
   "execution_count": 102,
   "id": "3fb42a34",
   "metadata": {},
   "outputs": [
    {
     "name": "stdout",
     "output_type": "stream",
     "text": [
      "[0.81564246 0.79775281 0.88202247 0.79775281 0.85393258]\n",
      "0.8294206264515724\n"
     ]
    }
   ],
   "source": [
    "rf = RandomForestClassifier(random_state = 1, min_samples_split = 5, n_estimators = 1000)\n",
    "cv = cross_val_score(rf,X_train,y_train,cv=5)\n",
    "print(cv)\n",
    "print(cv.mean())"
   ]
  },
  {
   "cell_type": "code",
   "execution_count": 105,
   "id": "a9f7b725",
   "metadata": {},
   "outputs": [
    {
     "name": "stdout",
     "output_type": "stream",
     "text": [
      "[0.78212291 0.79775281 0.79775281 0.7752809  0.83146067]\n",
      "0.7968740192078337\n"
     ]
    }
   ],
   "source": [
    "lr = LogisticRegression(max_iter = 100, C = 0.1)\n",
    "cv = cross_val_score(lr,X_train,y_train,cv=5)\n",
    "print(cv)\n",
    "print(cv.mean())"
   ]
  },
  {
   "cell_type": "code",
   "execution_count": 109,
   "id": "5ea2eb0a",
   "metadata": {},
   "outputs": [
    {
     "name": "stdout",
     "output_type": "stream",
     "text": [
      "[0.82681564 0.8258427  0.80898876 0.80898876 0.84269663]\n",
      "0.822666499278137\n"
     ]
    }
   ],
   "source": [
    "svc = SVC(probability = True, gamma = 0.1)\n",
    "cv = cross_val_score(svc,X_train,y_train,cv=5)\n",
    "print(cv)\n",
    "print(cv.mean())"
   ]
  },
  {
   "cell_type": "code",
   "execution_count": 113,
   "id": "3f0a47d6",
   "metadata": {},
   "outputs": [
    {
     "name": "stdout",
     "output_type": "stream",
     "text": [
      "[0.78212291 0.79213483 0.81460674 0.75842697 0.82022472]\n",
      "0.7935032326909799\n"
     ]
    }
   ],
   "source": [
    "dt = tree.DecisionTreeClassifier(random_state = 1, criterion = 'entropy', min_samples_split = 4)\n",
    "cv = cross_val_score(dt,X_train,y_train,cv=5)\n",
    "print(cv)\n",
    "print(cv.mean())"
   ]
  },
  {
   "cell_type": "code",
   "execution_count": 150,
   "id": "a26a5539",
   "metadata": {
    "scrolled": true
   },
   "outputs": [
    {
     "name": "stdout",
     "output_type": "stream",
     "text": [
      "Fitting 5 folds for each of 18 candidates, totalling 90 fits\n",
      "[CV 1/5; 1/18] START learning_rate=0.01, max_depth=3, n_estimators=100..........\n",
      "[00:28:56] WARNING: C:/Users/Administrator/workspace/xgboost-win64_release_1.5.0/src/learner.cc:1115: Starting in XGBoost 1.3.0, the default evaluation metric used with the objective 'binary:logistic' was changed from 'error' to 'logloss'. Explicitly set eval_metric if you'd like to restore the old behavior.\n",
      "[CV 1/5; 1/18] END learning_rate=0.01, max_depth=3, n_estimators=100;, score=0.827 total time=   0.1s\n",
      "[CV 2/5; 1/18] START learning_rate=0.01, max_depth=3, n_estimators=100..........\n",
      "[00:28:56] WARNING: C:/Users/Administrator/workspace/xgboost-win64_release_1.5.0/src/learner.cc:1115: Starting in XGBoost 1.3.0, the default evaluation metric used with the objective 'binary:logistic' was changed from 'error' to 'logloss'. Explicitly set eval_metric if you'd like to restore the old behavior.\n",
      "[CV 2/5; 1/18] END learning_rate=0.01, max_depth=3, n_estimators=100;, score=0.820 total time=   0.1s\n",
      "[CV 3/5; 1/18] START learning_rate=0.01, max_depth=3, n_estimators=100..........\n",
      "[00:28:56] WARNING: C:/Users/Administrator/workspace/xgboost-win64_release_1.5.0/src/learner.cc:1115: Starting in XGBoost 1.3.0, the default evaluation metric used with the objective 'binary:logistic' was changed from 'error' to 'logloss'. Explicitly set eval_metric if you'd like to restore the old behavior.\n",
      "[CV 3/5; 1/18] END learning_rate=0.01, max_depth=3, n_estimators=100;, score=0.815 total time=   0.0s\n",
      "[CV 4/5; 1/18] START learning_rate=0.01, max_depth=3, n_estimators=100..........\n",
      "[00:28:56] WARNING: C:/Users/Administrator/workspace/xgboost-win64_release_1.5.0/src/learner.cc:1115: Starting in XGBoost 1.3.0, the default evaluation metric used with the objective 'binary:logistic' was changed from 'error' to 'logloss'. Explicitly set eval_metric if you'd like to restore the old behavior.\n",
      "[CV 4/5; 1/18] END learning_rate=0.01, max_depth=3, n_estimators=100;, score=0.792 total time=   0.1s\n",
      "[CV 5/5; 1/18] START learning_rate=0.01, max_depth=3, n_estimators=100..........\n",
      "[00:28:56] WARNING: C:/Users/Administrator/workspace/xgboost-win64_release_1.5.0/src/learner.cc:1115: Starting in XGBoost 1.3.0, the default evaluation metric used with the objective 'binary:logistic' was changed from 'error' to 'logloss'. Explicitly set eval_metric if you'd like to restore the old behavior.\n",
      "[CV 5/5; 1/18] END learning_rate=0.01, max_depth=3, n_estimators=100;, score=0.820 total time=   0.0s\n",
      "[CV 1/5; 2/18] START learning_rate=0.01, max_depth=3, n_estimators=500..........\n",
      "[00:28:56] WARNING: C:/Users/Administrator/workspace/xgboost-win64_release_1.5.0/src/learner.cc:1115: Starting in XGBoost 1.3.0, the default evaluation metric used with the objective 'binary:logistic' was changed from 'error' to 'logloss'. Explicitly set eval_metric if you'd like to restore the old behavior.\n",
      "[CV 1/5; 2/18] END learning_rate=0.01, max_depth=3, n_estimators=500;, score=0.799 total time=   0.5s\n",
      "[CV 2/5; 2/18] START learning_rate=0.01, max_depth=3, n_estimators=500..........\n",
      "[00:28:57] WARNING: C:/Users/Administrator/workspace/xgboost-win64_release_1.5.0/src/learner.cc:1115: Starting in XGBoost 1.3.0, the default evaluation metric used with the objective 'binary:logistic' was changed from 'error' to 'logloss'. Explicitly set eval_metric if you'd like to restore the old behavior.\n",
      "[CV 2/5; 2/18] END learning_rate=0.01, max_depth=3, n_estimators=500;, score=0.803 total time=   0.5s\n",
      "[CV 3/5; 2/18] START learning_rate=0.01, max_depth=3, n_estimators=500..........\n",
      "[00:28:58] WARNING: C:/Users/Administrator/workspace/xgboost-win64_release_1.5.0/src/learner.cc:1115: Starting in XGBoost 1.3.0, the default evaluation metric used with the objective 'binary:logistic' was changed from 'error' to 'logloss'. Explicitly set eval_metric if you'd like to restore the old behavior.\n",
      "[CV 3/5; 2/18] END learning_rate=0.01, max_depth=3, n_estimators=500;, score=0.837 total time=   0.6s\n",
      "[CV 4/5; 2/18] START learning_rate=0.01, max_depth=3, n_estimators=500..........\n",
      "[00:28:58] WARNING: C:/Users/Administrator/workspace/xgboost-win64_release_1.5.0/src/learner.cc:1115: Starting in XGBoost 1.3.0, the default evaluation metric used with the objective 'binary:logistic' was changed from 'error' to 'logloss'. Explicitly set eval_metric if you'd like to restore the old behavior.\n",
      "[CV 4/5; 2/18] END learning_rate=0.01, max_depth=3, n_estimators=500;, score=0.787 total time=   0.6s\n",
      "[CV 5/5; 2/18] START learning_rate=0.01, max_depth=3, n_estimators=500..........\n",
      "[00:28:59] WARNING: C:/Users/Administrator/workspace/xgboost-win64_release_1.5.0/src/learner.cc:1115: Starting in XGBoost 1.3.0, the default evaluation metric used with the objective 'binary:logistic' was changed from 'error' to 'logloss'. Explicitly set eval_metric if you'd like to restore the old behavior.\n",
      "[CV 5/5; 2/18] END learning_rate=0.01, max_depth=3, n_estimators=500;, score=0.848 total time=   0.7s\n",
      "[CV 1/5; 3/18] START learning_rate=0.01, max_depth=5, n_estimators=100..........\n",
      "[00:29:00] WARNING: C:/Users/Administrator/workspace/xgboost-win64_release_1.5.0/src/learner.cc:1115: Starting in XGBoost 1.3.0, the default evaluation metric used with the objective 'binary:logistic' was changed from 'error' to 'logloss'. Explicitly set eval_metric if you'd like to restore the old behavior.\n",
      "[CV 1/5; 3/18] END learning_rate=0.01, max_depth=5, n_estimators=100;, score=0.810 total time=   0.1s\n",
      "[CV 2/5; 3/18] START learning_rate=0.01, max_depth=5, n_estimators=100..........\n",
      "[00:29:00] WARNING: C:/Users/Administrator/workspace/xgboost-win64_release_1.5.0/src/learner.cc:1115: Starting in XGBoost 1.3.0, the default evaluation metric used with the objective 'binary:logistic' was changed from 'error' to 'logloss'. Explicitly set eval_metric if you'd like to restore the old behavior.\n",
      "[CV 2/5; 3/18] END learning_rate=0.01, max_depth=5, n_estimators=100;, score=0.798 total time=   0.1s\n",
      "[CV 3/5; 3/18] START learning_rate=0.01, max_depth=5, n_estimators=100..........\n",
      "[00:29:00] WARNING: C:/Users/Administrator/workspace/xgboost-win64_release_1.5.0/src/learner.cc:1115: Starting in XGBoost 1.3.0, the default evaluation metric used with the objective 'binary:logistic' was changed from 'error' to 'logloss'. Explicitly set eval_metric if you'd like to restore the old behavior.\n",
      "[CV 3/5; 3/18] END learning_rate=0.01, max_depth=5, n_estimators=100;, score=0.831 total time=   0.1s\n",
      "[CV 4/5; 3/18] START learning_rate=0.01, max_depth=5, n_estimators=100..........\n",
      "[00:29:00] WARNING: C:/Users/Administrator/workspace/xgboost-win64_release_1.5.0/src/learner.cc:1115: Starting in XGBoost 1.3.0, the default evaluation metric used with the objective 'binary:logistic' was changed from 'error' to 'logloss'. Explicitly set eval_metric if you'd like to restore the old behavior.\n",
      "[CV 4/5; 3/18] END learning_rate=0.01, max_depth=5, n_estimators=100;, score=0.787 total time=   0.1s\n",
      "[CV 5/5; 3/18] START learning_rate=0.01, max_depth=5, n_estimators=100..........\n",
      "[00:29:01] WARNING: C:/Users/Administrator/workspace/xgboost-win64_release_1.5.0/src/learner.cc:1115: Starting in XGBoost 1.3.0, the default evaluation metric used with the objective 'binary:logistic' was changed from 'error' to 'logloss'. Explicitly set eval_metric if you'd like to restore the old behavior.\n",
      "[CV 5/5; 3/18] END learning_rate=0.01, max_depth=5, n_estimators=100;, score=0.848 total time=   0.1s\n",
      "[CV 1/5; 4/18] START learning_rate=0.01, max_depth=5, n_estimators=500..........\n",
      "[00:29:01] WARNING: C:/Users/Administrator/workspace/xgboost-win64_release_1.5.0/src/learner.cc:1115: Starting in XGBoost 1.3.0, the default evaluation metric used with the objective 'binary:logistic' was changed from 'error' to 'logloss'. Explicitly set eval_metric if you'd like to restore the old behavior.\n",
      "[CV 1/5; 4/18] END learning_rate=0.01, max_depth=5, n_estimators=500;, score=0.816 total time=   0.8s\n",
      "[CV 2/5; 4/18] START learning_rate=0.01, max_depth=5, n_estimators=500..........\n",
      "[00:29:02] WARNING: C:/Users/Administrator/workspace/xgboost-win64_release_1.5.0/src/learner.cc:1115: Starting in XGBoost 1.3.0, the default evaluation metric used with the objective 'binary:logistic' was changed from 'error' to 'logloss'. Explicitly set eval_metric if you'd like to restore the old behavior.\n"
     ]
    },
    {
     "name": "stdout",
     "output_type": "stream",
     "text": [
      "[CV 2/5; 4/18] END learning_rate=0.01, max_depth=5, n_estimators=500;, score=0.803 total time=   0.9s\n",
      "[CV 3/5; 4/18] START learning_rate=0.01, max_depth=5, n_estimators=500..........\n",
      "[00:29:03] WARNING: C:/Users/Administrator/workspace/xgboost-win64_release_1.5.0/src/learner.cc:1115: Starting in XGBoost 1.3.0, the default evaluation metric used with the objective 'binary:logistic' was changed from 'error' to 'logloss'. Explicitly set eval_metric if you'd like to restore the old behavior.\n",
      "[CV 3/5; 4/18] END learning_rate=0.01, max_depth=5, n_estimators=500;, score=0.871 total time=   0.9s\n",
      "[CV 4/5; 4/18] START learning_rate=0.01, max_depth=5, n_estimators=500..........\n",
      "[00:29:04] WARNING: C:/Users/Administrator/workspace/xgboost-win64_release_1.5.0/src/learner.cc:1115: Starting in XGBoost 1.3.0, the default evaluation metric used with the objective 'binary:logistic' was changed from 'error' to 'logloss'. Explicitly set eval_metric if you'd like to restore the old behavior.\n",
      "[CV 4/5; 4/18] END learning_rate=0.01, max_depth=5, n_estimators=500;, score=0.803 total time=   0.8s\n",
      "[CV 5/5; 4/18] START learning_rate=0.01, max_depth=5, n_estimators=500..........\n",
      "[00:29:05] WARNING: C:/Users/Administrator/workspace/xgboost-win64_release_1.5.0/src/learner.cc:1115: Starting in XGBoost 1.3.0, the default evaluation metric used with the objective 'binary:logistic' was changed from 'error' to 'logloss'. Explicitly set eval_metric if you'd like to restore the old behavior.\n",
      "[CV 5/5; 4/18] END learning_rate=0.01, max_depth=5, n_estimators=500;, score=0.865 total time=   0.8s\n",
      "[CV 1/5; 5/18] START learning_rate=0.01, max_depth=7, n_estimators=100..........\n",
      "[00:29:06] WARNING: C:/Users/Administrator/workspace/xgboost-win64_release_1.5.0/src/learner.cc:1115: Starting in XGBoost 1.3.0, the default evaluation metric used with the objective 'binary:logistic' was changed from 'error' to 'logloss'. Explicitly set eval_metric if you'd like to restore the old behavior.\n",
      "[CV 1/5; 5/18] END learning_rate=0.01, max_depth=7, n_estimators=100;, score=0.821 total time=   0.2s\n",
      "[CV 2/5; 5/18] START learning_rate=0.01, max_depth=7, n_estimators=100..........\n",
      "[00:29:06] WARNING: C:/Users/Administrator/workspace/xgboost-win64_release_1.5.0/src/learner.cc:1115: Starting in XGBoost 1.3.0, the default evaluation metric used with the objective 'binary:logistic' was changed from 'error' to 'logloss'. Explicitly set eval_metric if you'd like to restore the old behavior.\n",
      "[CV 2/5; 5/18] END learning_rate=0.01, max_depth=7, n_estimators=100;, score=0.798 total time=   0.2s\n",
      "[CV 3/5; 5/18] START learning_rate=0.01, max_depth=7, n_estimators=100..........\n",
      "[00:29:06] WARNING: C:/Users/Administrator/workspace/xgboost-win64_release_1.5.0/src/learner.cc:1115: Starting in XGBoost 1.3.0, the default evaluation metric used with the objective 'binary:logistic' was changed from 'error' to 'logloss'. Explicitly set eval_metric if you'd like to restore the old behavior.\n",
      "[CV 3/5; 5/18] END learning_rate=0.01, max_depth=7, n_estimators=100;, score=0.871 total time=   0.2s\n",
      "[CV 4/5; 5/18] START learning_rate=0.01, max_depth=7, n_estimators=100..........\n",
      "[00:29:06] WARNING: C:/Users/Administrator/workspace/xgboost-win64_release_1.5.0/src/learner.cc:1115: Starting in XGBoost 1.3.0, the default evaluation metric used with the objective 'binary:logistic' was changed from 'error' to 'logloss'. Explicitly set eval_metric if you'd like to restore the old behavior.\n",
      "[CV 4/5; 5/18] END learning_rate=0.01, max_depth=7, n_estimators=100;, score=0.803 total time=   0.2s\n",
      "[CV 5/5; 5/18] START learning_rate=0.01, max_depth=7, n_estimators=100..........\n",
      "[00:29:07] WARNING: C:/Users/Administrator/workspace/xgboost-win64_release_1.5.0/src/learner.cc:1115: Starting in XGBoost 1.3.0, the default evaluation metric used with the objective 'binary:logistic' was changed from 'error' to 'logloss'. Explicitly set eval_metric if you'd like to restore the old behavior.\n",
      "[CV 5/5; 5/18] END learning_rate=0.01, max_depth=7, n_estimators=100;, score=0.843 total time=   0.2s\n",
      "[CV 1/5; 6/18] START learning_rate=0.01, max_depth=7, n_estimators=500..........\n",
      "[00:29:07] WARNING: C:/Users/Administrator/workspace/xgboost-win64_release_1.5.0/src/learner.cc:1115: Starting in XGBoost 1.3.0, the default evaluation metric used with the objective 'binary:logistic' was changed from 'error' to 'logloss'. Explicitly set eval_metric if you'd like to restore the old behavior.\n",
      "[CV 1/5; 6/18] END learning_rate=0.01, max_depth=7, n_estimators=500;, score=0.810 total time=   1.0s\n",
      "[CV 2/5; 6/18] START learning_rate=0.01, max_depth=7, n_estimators=500..........\n",
      "[00:29:08] WARNING: C:/Users/Administrator/workspace/xgboost-win64_release_1.5.0/src/learner.cc:1115: Starting in XGBoost 1.3.0, the default evaluation metric used with the objective 'binary:logistic' was changed from 'error' to 'logloss'. Explicitly set eval_metric if you'd like to restore the old behavior.\n",
      "[CV 2/5; 6/18] END learning_rate=0.01, max_depth=7, n_estimators=500;, score=0.809 total time=   1.0s\n",
      "[CV 3/5; 6/18] START learning_rate=0.01, max_depth=7, n_estimators=500..........\n",
      "[00:29:09] WARNING: C:/Users/Administrator/workspace/xgboost-win64_release_1.5.0/src/learner.cc:1115: Starting in XGBoost 1.3.0, the default evaluation metric used with the objective 'binary:logistic' was changed from 'error' to 'logloss'. Explicitly set eval_metric if you'd like to restore the old behavior.\n",
      "[CV 3/5; 6/18] END learning_rate=0.01, max_depth=7, n_estimators=500;, score=0.871 total time=   1.0s\n",
      "[CV 4/5; 6/18] START learning_rate=0.01, max_depth=7, n_estimators=500..........\n",
      "[00:29:10] WARNING: C:/Users/Administrator/workspace/xgboost-win64_release_1.5.0/src/learner.cc:1115: Starting in XGBoost 1.3.0, the default evaluation metric used with the objective 'binary:logistic' was changed from 'error' to 'logloss'. Explicitly set eval_metric if you'd like to restore the old behavior.\n",
      "[CV 4/5; 6/18] END learning_rate=0.01, max_depth=7, n_estimators=500;, score=0.815 total time=   1.0s\n",
      "[CV 5/5; 6/18] START learning_rate=0.01, max_depth=7, n_estimators=500..........\n",
      "[00:29:11] WARNING: C:/Users/Administrator/workspace/xgboost-win64_release_1.5.0/src/learner.cc:1115: Starting in XGBoost 1.3.0, the default evaluation metric used with the objective 'binary:logistic' was changed from 'error' to 'logloss'. Explicitly set eval_metric if you'd like to restore the old behavior.\n",
      "[CV 5/5; 6/18] END learning_rate=0.01, max_depth=7, n_estimators=500;, score=0.860 total time=   1.1s\n",
      "[CV 1/5; 7/18] START learning_rate=0.05, max_depth=3, n_estimators=100..........\n",
      "[00:29:12] WARNING: C:/Users/Administrator/workspace/xgboost-win64_release_1.5.0/src/learner.cc:1115: Starting in XGBoost 1.3.0, the default evaluation metric used with the objective 'binary:logistic' was changed from 'error' to 'logloss'. Explicitly set eval_metric if you'd like to restore the old behavior.\n",
      "[CV 1/5; 7/18] END learning_rate=0.05, max_depth=3, n_estimators=100;, score=0.799 total time=   0.1s\n",
      "[CV 2/5; 7/18] START learning_rate=0.05, max_depth=3, n_estimators=100..........\n",
      "[00:29:13] WARNING: C:/Users/Administrator/workspace/xgboost-win64_release_1.5.0/src/learner.cc:1115: Starting in XGBoost 1.3.0, the default evaluation metric used with the objective 'binary:logistic' was changed from 'error' to 'logloss'. Explicitly set eval_metric if you'd like to restore the old behavior.\n",
      "[CV 2/5; 7/18] END learning_rate=0.05, max_depth=3, n_estimators=100;, score=0.803 total time=   0.1s\n",
      "[CV 3/5; 7/18] START learning_rate=0.05, max_depth=3, n_estimators=100..........\n",
      "[00:29:13] WARNING: C:/Users/Administrator/workspace/xgboost-win64_release_1.5.0/src/learner.cc:1115: Starting in XGBoost 1.3.0, the default evaluation metric used with the objective 'binary:logistic' was changed from 'error' to 'logloss'. Explicitly set eval_metric if you'd like to restore the old behavior.\n",
      "[CV 3/5; 7/18] END learning_rate=0.05, max_depth=3, n_estimators=100;, score=0.837 total time=   0.1s\n",
      "[CV 4/5; 7/18] START learning_rate=0.05, max_depth=3, n_estimators=100..........\n",
      "[00:29:13] WARNING: C:/Users/Administrator/workspace/xgboost-win64_release_1.5.0/src/learner.cc:1115: Starting in XGBoost 1.3.0, the default evaluation metric used with the objective 'binary:logistic' was changed from 'error' to 'logloss'. Explicitly set eval_metric if you'd like to restore the old behavior.\n"
     ]
    },
    {
     "name": "stdout",
     "output_type": "stream",
     "text": [
      "[CV 4/5; 7/18] END learning_rate=0.05, max_depth=3, n_estimators=100;, score=0.792 total time=   0.1s\n",
      "[CV 5/5; 7/18] START learning_rate=0.05, max_depth=3, n_estimators=100..........\n",
      "[00:29:13] WARNING: C:/Users/Administrator/workspace/xgboost-win64_release_1.5.0/src/learner.cc:1115: Starting in XGBoost 1.3.0, the default evaluation metric used with the objective 'binary:logistic' was changed from 'error' to 'logloss'. Explicitly set eval_metric if you'd like to restore the old behavior.\n",
      "[CV 5/5; 7/18] END learning_rate=0.05, max_depth=3, n_estimators=100;, score=0.848 total time=   0.1s\n",
      "[CV 1/5; 8/18] START learning_rate=0.05, max_depth=3, n_estimators=500..........\n",
      "[00:29:13] WARNING: C:/Users/Administrator/workspace/xgboost-win64_release_1.5.0/src/learner.cc:1115: Starting in XGBoost 1.3.0, the default evaluation metric used with the objective 'binary:logistic' was changed from 'error' to 'logloss'. Explicitly set eval_metric if you'd like to restore the old behavior.\n",
      "[CV 1/5; 8/18] END learning_rate=0.05, max_depth=3, n_estimators=500;, score=0.793 total time=   0.6s\n",
      "[CV 2/5; 8/18] START learning_rate=0.05, max_depth=3, n_estimators=500..........\n",
      "[00:29:14] WARNING: C:/Users/Administrator/workspace/xgboost-win64_release_1.5.0/src/learner.cc:1115: Starting in XGBoost 1.3.0, the default evaluation metric used with the objective 'binary:logistic' was changed from 'error' to 'logloss'. Explicitly set eval_metric if you'd like to restore the old behavior.\n",
      "[CV 2/5; 8/18] END learning_rate=0.05, max_depth=3, n_estimators=500;, score=0.803 total time=   0.6s\n",
      "[CV 3/5; 8/18] START learning_rate=0.05, max_depth=3, n_estimators=500..........\n",
      "[00:29:15] WARNING: C:/Users/Administrator/workspace/xgboost-win64_release_1.5.0/src/learner.cc:1115: Starting in XGBoost 1.3.0, the default evaluation metric used with the objective 'binary:logistic' was changed from 'error' to 'logloss'. Explicitly set eval_metric if you'd like to restore the old behavior.\n",
      "[CV 3/5; 8/18] END learning_rate=0.05, max_depth=3, n_estimators=500;, score=0.871 total time=   0.6s\n",
      "[CV 4/5; 8/18] START learning_rate=0.05, max_depth=3, n_estimators=500..........\n",
      "[00:29:15] WARNING: C:/Users/Administrator/workspace/xgboost-win64_release_1.5.0/src/learner.cc:1115: Starting in XGBoost 1.3.0, the default evaluation metric used with the objective 'binary:logistic' was changed from 'error' to 'logloss'. Explicitly set eval_metric if you'd like to restore the old behavior.\n",
      "[CV 4/5; 8/18] END learning_rate=0.05, max_depth=3, n_estimators=500;, score=0.798 total time=   0.6s\n",
      "[CV 5/5; 8/18] START learning_rate=0.05, max_depth=3, n_estimators=500..........\n",
      "[00:29:16] WARNING: C:/Users/Administrator/workspace/xgboost-win64_release_1.5.0/src/learner.cc:1115: Starting in XGBoost 1.3.0, the default evaluation metric used with the objective 'binary:logistic' was changed from 'error' to 'logloss'. Explicitly set eval_metric if you'd like to restore the old behavior.\n",
      "[CV 5/5; 8/18] END learning_rate=0.05, max_depth=3, n_estimators=500;, score=0.843 total time=   0.6s\n",
      "[CV 1/5; 9/18] START learning_rate=0.05, max_depth=5, n_estimators=100..........\n",
      "[00:29:17] WARNING: C:/Users/Administrator/workspace/xgboost-win64_release_1.5.0/src/learner.cc:1115: Starting in XGBoost 1.3.0, the default evaluation metric used with the objective 'binary:logistic' was changed from 'error' to 'logloss'. Explicitly set eval_metric if you'd like to restore the old behavior.\n",
      "[CV 1/5; 9/18] END learning_rate=0.05, max_depth=5, n_estimators=100;, score=0.816 total time=   0.1s\n",
      "[CV 2/5; 9/18] START learning_rate=0.05, max_depth=5, n_estimators=100..........\n",
      "[00:29:17] WARNING: C:/Users/Administrator/workspace/xgboost-win64_release_1.5.0/src/learner.cc:1115: Starting in XGBoost 1.3.0, the default evaluation metric used with the objective 'binary:logistic' was changed from 'error' to 'logloss'. Explicitly set eval_metric if you'd like to restore the old behavior.\n",
      "[CV 2/5; 9/18] END learning_rate=0.05, max_depth=5, n_estimators=100;, score=0.803 total time=   0.1s\n",
      "[CV 3/5; 9/18] START learning_rate=0.05, max_depth=5, n_estimators=100..........\n",
      "[00:29:17] WARNING: C:/Users/Administrator/workspace/xgboost-win64_release_1.5.0/src/learner.cc:1115: Starting in XGBoost 1.3.0, the default evaluation metric used with the objective 'binary:logistic' was changed from 'error' to 'logloss'. Explicitly set eval_metric if you'd like to restore the old behavior.\n",
      "[CV 3/5; 9/18] END learning_rate=0.05, max_depth=5, n_estimators=100;, score=0.871 total time=   0.1s\n",
      "[CV 4/5; 9/18] START learning_rate=0.05, max_depth=5, n_estimators=100..........\n",
      "[00:29:18] WARNING: C:/Users/Administrator/workspace/xgboost-win64_release_1.5.0/src/learner.cc:1115: Starting in XGBoost 1.3.0, the default evaluation metric used with the objective 'binary:logistic' was changed from 'error' to 'logloss'. Explicitly set eval_metric if you'd like to restore the old behavior.\n",
      "[CV 4/5; 9/18] END learning_rate=0.05, max_depth=5, n_estimators=100;, score=0.803 total time=   0.1s\n",
      "[CV 5/5; 9/18] START learning_rate=0.05, max_depth=5, n_estimators=100..........\n",
      "[00:29:18] WARNING: C:/Users/Administrator/workspace/xgboost-win64_release_1.5.0/src/learner.cc:1115: Starting in XGBoost 1.3.0, the default evaluation metric used with the objective 'binary:logistic' was changed from 'error' to 'logloss'. Explicitly set eval_metric if you'd like to restore the old behavior.\n",
      "[CV 5/5; 9/18] END learning_rate=0.05, max_depth=5, n_estimators=100;, score=0.854 total time=   0.1s\n",
      "[CV 1/5; 10/18] START learning_rate=0.05, max_depth=5, n_estimators=500.........\n",
      "[00:29:18] WARNING: C:/Users/Administrator/workspace/xgboost-win64_release_1.5.0/src/learner.cc:1115: Starting in XGBoost 1.3.0, the default evaluation metric used with the objective 'binary:logistic' was changed from 'error' to 'logloss'. Explicitly set eval_metric if you'd like to restore the old behavior.\n",
      "[CV 1/5; 10/18] END learning_rate=0.05, max_depth=5, n_estimators=500;, score=0.816 total time=   0.9s\n",
      "[CV 2/5; 10/18] START learning_rate=0.05, max_depth=5, n_estimators=500.........\n",
      "[00:29:19] WARNING: C:/Users/Administrator/workspace/xgboost-win64_release_1.5.0/src/learner.cc:1115: Starting in XGBoost 1.3.0, the default evaluation metric used with the objective 'binary:logistic' was changed from 'error' to 'logloss'. Explicitly set eval_metric if you'd like to restore the old behavior.\n",
      "[CV 2/5; 10/18] END learning_rate=0.05, max_depth=5, n_estimators=500;, score=0.815 total time=   0.7s\n",
      "[CV 3/5; 10/18] START learning_rate=0.05, max_depth=5, n_estimators=500.........\n",
      "[00:29:20] WARNING: C:/Users/Administrator/workspace/xgboost-win64_release_1.5.0/src/learner.cc:1115: Starting in XGBoost 1.3.0, the default evaluation metric used with the objective 'binary:logistic' was changed from 'error' to 'logloss'. Explicitly set eval_metric if you'd like to restore the old behavior.\n",
      "[CV 3/5; 10/18] END learning_rate=0.05, max_depth=5, n_estimators=500;, score=0.860 total time=   0.7s\n",
      "[CV 4/5; 10/18] START learning_rate=0.05, max_depth=5, n_estimators=500.........\n",
      "[00:29:21] WARNING: C:/Users/Administrator/workspace/xgboost-win64_release_1.5.0/src/learner.cc:1115: Starting in XGBoost 1.3.0, the default evaluation metric used with the objective 'binary:logistic' was changed from 'error' to 'logloss'. Explicitly set eval_metric if you'd like to restore the old behavior.\n",
      "[CV 4/5; 10/18] END learning_rate=0.05, max_depth=5, n_estimators=500;, score=0.820 total time=   0.8s\n",
      "[CV 5/5; 10/18] START learning_rate=0.05, max_depth=5, n_estimators=500.........\n",
      "[00:29:21] WARNING: C:/Users/Administrator/workspace/xgboost-win64_release_1.5.0/src/learner.cc:1115: Starting in XGBoost 1.3.0, the default evaluation metric used with the objective 'binary:logistic' was changed from 'error' to 'logloss'. Explicitly set eval_metric if you'd like to restore the old behavior.\n",
      "[CV 5/5; 10/18] END learning_rate=0.05, max_depth=5, n_estimators=500;, score=0.865 total time=   0.7s\n",
      "[CV 1/5; 11/18] START learning_rate=0.05, max_depth=7, n_estimators=100.........\n",
      "[00:29:22] WARNING: C:/Users/Administrator/workspace/xgboost-win64_release_1.5.0/src/learner.cc:1115: Starting in XGBoost 1.3.0, the default evaluation metric used with the objective 'binary:logistic' was changed from 'error' to 'logloss'. Explicitly set eval_metric if you'd like to restore the old behavior.\n"
     ]
    },
    {
     "name": "stdout",
     "output_type": "stream",
     "text": [
      "[CV 1/5; 11/18] END learning_rate=0.05, max_depth=7, n_estimators=100;, score=0.804 total time=   0.1s\n",
      "[CV 2/5; 11/18] START learning_rate=0.05, max_depth=7, n_estimators=100.........\n",
      "[00:29:22] WARNING: C:/Users/Administrator/workspace/xgboost-win64_release_1.5.0/src/learner.cc:1115: Starting in XGBoost 1.3.0, the default evaluation metric used with the objective 'binary:logistic' was changed from 'error' to 'logloss'. Explicitly set eval_metric if you'd like to restore the old behavior.\n",
      "[CV 2/5; 11/18] END learning_rate=0.05, max_depth=7, n_estimators=100;, score=0.809 total time=   0.1s\n",
      "[CV 3/5; 11/18] START learning_rate=0.05, max_depth=7, n_estimators=100.........\n",
      "[00:29:23] WARNING: C:/Users/Administrator/workspace/xgboost-win64_release_1.5.0/src/learner.cc:1115: Starting in XGBoost 1.3.0, the default evaluation metric used with the objective 'binary:logistic' was changed from 'error' to 'logloss'. Explicitly set eval_metric if you'd like to restore the old behavior.\n",
      "[CV 3/5; 11/18] END learning_rate=0.05, max_depth=7, n_estimators=100;, score=0.865 total time=   0.2s\n",
      "[CV 4/5; 11/18] START learning_rate=0.05, max_depth=7, n_estimators=100.........\n",
      "[00:29:23] WARNING: C:/Users/Administrator/workspace/xgboost-win64_release_1.5.0/src/learner.cc:1115: Starting in XGBoost 1.3.0, the default evaluation metric used with the objective 'binary:logistic' was changed from 'error' to 'logloss'. Explicitly set eval_metric if you'd like to restore the old behavior.\n",
      "[CV 4/5; 11/18] END learning_rate=0.05, max_depth=7, n_estimators=100;, score=0.815 total time=   0.2s\n",
      "[CV 5/5; 11/18] START learning_rate=0.05, max_depth=7, n_estimators=100.........\n",
      "[00:29:23] WARNING: C:/Users/Administrator/workspace/xgboost-win64_release_1.5.0/src/learner.cc:1115: Starting in XGBoost 1.3.0, the default evaluation metric used with the objective 'binary:logistic' was changed from 'error' to 'logloss'. Explicitly set eval_metric if you'd like to restore the old behavior.\n",
      "[CV 5/5; 11/18] END learning_rate=0.05, max_depth=7, n_estimators=100;, score=0.865 total time=   0.2s\n",
      "[CV 1/5; 12/18] START learning_rate=0.05, max_depth=7, n_estimators=500.........\n",
      "[00:29:24] WARNING: C:/Users/Administrator/workspace/xgboost-win64_release_1.5.0/src/learner.cc:1115: Starting in XGBoost 1.3.0, the default evaluation metric used with the objective 'binary:logistic' was changed from 'error' to 'logloss'. Explicitly set eval_metric if you'd like to restore the old behavior.\n",
      "[CV 1/5; 12/18] END learning_rate=0.05, max_depth=7, n_estimators=500;, score=0.799 total time=   0.8s\n",
      "[CV 2/5; 12/18] START learning_rate=0.05, max_depth=7, n_estimators=500.........\n",
      "[00:29:24] WARNING: C:/Users/Administrator/workspace/xgboost-win64_release_1.5.0/src/learner.cc:1115: Starting in XGBoost 1.3.0, the default evaluation metric used with the objective 'binary:logistic' was changed from 'error' to 'logloss'. Explicitly set eval_metric if you'd like to restore the old behavior.\n",
      "[CV 2/5; 12/18] END learning_rate=0.05, max_depth=7, n_estimators=500;, score=0.815 total time=   0.7s\n",
      "[CV 3/5; 12/18] START learning_rate=0.05, max_depth=7, n_estimators=500.........\n",
      "[00:29:25] WARNING: C:/Users/Administrator/workspace/xgboost-win64_release_1.5.0/src/learner.cc:1115: Starting in XGBoost 1.3.0, the default evaluation metric used with the objective 'binary:logistic' was changed from 'error' to 'logloss'. Explicitly set eval_metric if you'd like to restore the old behavior.\n",
      "[CV 3/5; 12/18] END learning_rate=0.05, max_depth=7, n_estimators=500;, score=0.848 total time=   0.8s\n",
      "[CV 4/5; 12/18] START learning_rate=0.05, max_depth=7, n_estimators=500.........\n",
      "[00:29:26] WARNING: C:/Users/Administrator/workspace/xgboost-win64_release_1.5.0/src/learner.cc:1115: Starting in XGBoost 1.3.0, the default evaluation metric used with the objective 'binary:logistic' was changed from 'error' to 'logloss'. Explicitly set eval_metric if you'd like to restore the old behavior.\n",
      "[CV 4/5; 12/18] END learning_rate=0.05, max_depth=7, n_estimators=500;, score=0.787 total time=   0.8s\n",
      "[CV 5/5; 12/18] START learning_rate=0.05, max_depth=7, n_estimators=500.........\n",
      "[00:29:27] WARNING: C:/Users/Administrator/workspace/xgboost-win64_release_1.5.0/src/learner.cc:1115: Starting in XGBoost 1.3.0, the default evaluation metric used with the objective 'binary:logistic' was changed from 'error' to 'logloss'. Explicitly set eval_metric if you'd like to restore the old behavior.\n",
      "[CV 5/5; 12/18] END learning_rate=0.05, max_depth=7, n_estimators=500;, score=0.848 total time=   0.8s\n",
      "[CV 1/5; 13/18] START learning_rate=0.1, max_depth=3, n_estimators=100..........\n",
      "[00:29:28] WARNING: C:/Users/Administrator/workspace/xgboost-win64_release_1.5.0/src/learner.cc:1115: Starting in XGBoost 1.3.0, the default evaluation metric used with the objective 'binary:logistic' was changed from 'error' to 'logloss'. Explicitly set eval_metric if you'd like to restore the old behavior.\n",
      "[CV 1/5; 13/18] END learning_rate=0.1, max_depth=3, n_estimators=100;, score=0.804 total time=   0.0s\n",
      "[CV 2/5; 13/18] START learning_rate=0.1, max_depth=3, n_estimators=100..........\n",
      "[00:29:28] WARNING: C:/Users/Administrator/workspace/xgboost-win64_release_1.5.0/src/learner.cc:1115: Starting in XGBoost 1.3.0, the default evaluation metric used with the objective 'binary:logistic' was changed from 'error' to 'logloss'. Explicitly set eval_metric if you'd like to restore the old behavior.\n",
      "[CV 2/5; 13/18] END learning_rate=0.1, max_depth=3, n_estimators=100;, score=0.815 total time=   0.0s\n",
      "[CV 3/5; 13/18] START learning_rate=0.1, max_depth=3, n_estimators=100..........\n",
      "[00:29:28] WARNING: C:/Users/Administrator/workspace/xgboost-win64_release_1.5.0/src/learner.cc:1115: Starting in XGBoost 1.3.0, the default evaluation metric used with the objective 'binary:logistic' was changed from 'error' to 'logloss'. Explicitly set eval_metric if you'd like to restore the old behavior.\n",
      "[CV 3/5; 13/18] END learning_rate=0.1, max_depth=3, n_estimators=100;, score=0.865 total time=   0.0s\n",
      "[CV 4/5; 13/18] START learning_rate=0.1, max_depth=3, n_estimators=100..........\n",
      "[00:29:28] WARNING: C:/Users/Administrator/workspace/xgboost-win64_release_1.5.0/src/learner.cc:1115: Starting in XGBoost 1.3.0, the default evaluation metric used with the objective 'binary:logistic' was changed from 'error' to 'logloss'. Explicitly set eval_metric if you'd like to restore the old behavior.\n",
      "[CV 4/5; 13/18] END learning_rate=0.1, max_depth=3, n_estimators=100;, score=0.787 total time=   0.1s\n",
      "[CV 5/5; 13/18] START learning_rate=0.1, max_depth=3, n_estimators=100..........\n",
      "[00:29:29] WARNING: C:/Users/Administrator/workspace/xgboost-win64_release_1.5.0/src/learner.cc:1115: Starting in XGBoost 1.3.0, the default evaluation metric used with the objective 'binary:logistic' was changed from 'error' to 'logloss'. Explicitly set eval_metric if you'd like to restore the old behavior.\n",
      "[CV 5/5; 13/18] END learning_rate=0.1, max_depth=3, n_estimators=100;, score=0.860 total time=   0.0s\n",
      "[CV 1/5; 14/18] START learning_rate=0.1, max_depth=3, n_estimators=500..........\n",
      "[00:29:29] WARNING: C:/Users/Administrator/workspace/xgboost-win64_release_1.5.0/src/learner.cc:1115: Starting in XGBoost 1.3.0, the default evaluation metric used with the objective 'binary:logistic' was changed from 'error' to 'logloss'. Explicitly set eval_metric if you'd like to restore the old behavior.\n",
      "[CV 1/5; 14/18] END learning_rate=0.1, max_depth=3, n_estimators=500;, score=0.810 total time=   0.5s\n",
      "[CV 2/5; 14/18] START learning_rate=0.1, max_depth=3, n_estimators=500..........\n",
      "[00:29:29] WARNING: C:/Users/Administrator/workspace/xgboost-win64_release_1.5.0/src/learner.cc:1115: Starting in XGBoost 1.3.0, the default evaluation metric used with the objective 'binary:logistic' was changed from 'error' to 'logloss'. Explicitly set eval_metric if you'd like to restore the old behavior.\n",
      "[CV 2/5; 14/18] END learning_rate=0.1, max_depth=3, n_estimators=500;, score=0.803 total time=   0.5s\n",
      "[CV 3/5; 14/18] START learning_rate=0.1, max_depth=3, n_estimators=500..........\n",
      "[00:29:30] WARNING: C:/Users/Administrator/workspace/xgboost-win64_release_1.5.0/src/learner.cc:1115: Starting in XGBoost 1.3.0, the default evaluation metric used with the objective 'binary:logistic' was changed from 'error' to 'logloss'. Explicitly set eval_metric if you'd like to restore the old behavior.\n"
     ]
    },
    {
     "name": "stdout",
     "output_type": "stream",
     "text": [
      "[CV 3/5; 14/18] END learning_rate=0.1, max_depth=3, n_estimators=500;, score=0.888 total time=   0.5s\n",
      "[CV 4/5; 14/18] START learning_rate=0.1, max_depth=3, n_estimators=500..........\n",
      "[00:29:31] WARNING: C:/Users/Administrator/workspace/xgboost-win64_release_1.5.0/src/learner.cc:1115: Starting in XGBoost 1.3.0, the default evaluation metric used with the objective 'binary:logistic' was changed from 'error' to 'logloss'. Explicitly set eval_metric if you'd like to restore the old behavior.\n",
      "[CV 4/5; 14/18] END learning_rate=0.1, max_depth=3, n_estimators=500;, score=0.815 total time=   0.6s\n",
      "[CV 5/5; 14/18] START learning_rate=0.1, max_depth=3, n_estimators=500..........\n",
      "[00:29:31] WARNING: C:/Users/Administrator/workspace/xgboost-win64_release_1.5.0/src/learner.cc:1115: Starting in XGBoost 1.3.0, the default evaluation metric used with the objective 'binary:logistic' was changed from 'error' to 'logloss'. Explicitly set eval_metric if you'd like to restore the old behavior.\n",
      "[CV 5/5; 14/18] END learning_rate=0.1, max_depth=3, n_estimators=500;, score=0.848 total time=   0.6s\n",
      "[CV 1/5; 15/18] START learning_rate=0.1, max_depth=5, n_estimators=100..........\n",
      "[00:29:32] WARNING: C:/Users/Administrator/workspace/xgboost-win64_release_1.5.0/src/learner.cc:1115: Starting in XGBoost 1.3.0, the default evaluation metric used with the objective 'binary:logistic' was changed from 'error' to 'logloss'. Explicitly set eval_metric if you'd like to restore the old behavior.\n",
      "[CV 1/5; 15/18] END learning_rate=0.1, max_depth=5, n_estimators=100;, score=0.816 total time=   0.1s\n",
      "[CV 2/5; 15/18] START learning_rate=0.1, max_depth=5, n_estimators=100..........\n",
      "[00:29:32] WARNING: C:/Users/Administrator/workspace/xgboost-win64_release_1.5.0/src/learner.cc:1115: Starting in XGBoost 1.3.0, the default evaluation metric used with the objective 'binary:logistic' was changed from 'error' to 'logloss'. Explicitly set eval_metric if you'd like to restore the old behavior.\n",
      "[CV 2/5; 15/18] END learning_rate=0.1, max_depth=5, n_estimators=100;, score=0.809 total time=   0.1s\n",
      "[CV 3/5; 15/18] START learning_rate=0.1, max_depth=5, n_estimators=100..........\n",
      "[00:29:32] WARNING: C:/Users/Administrator/workspace/xgboost-win64_release_1.5.0/src/learner.cc:1115: Starting in XGBoost 1.3.0, the default evaluation metric used with the objective 'binary:logistic' was changed from 'error' to 'logloss'. Explicitly set eval_metric if you'd like to restore the old behavior.\n",
      "[CV 3/5; 15/18] END learning_rate=0.1, max_depth=5, n_estimators=100;, score=0.860 total time=   0.1s\n",
      "[CV 4/5; 15/18] START learning_rate=0.1, max_depth=5, n_estimators=100..........\n",
      "[00:29:33] WARNING: C:/Users/Administrator/workspace/xgboost-win64_release_1.5.0/src/learner.cc:1115: Starting in XGBoost 1.3.0, the default evaluation metric used with the objective 'binary:logistic' was changed from 'error' to 'logloss'. Explicitly set eval_metric if you'd like to restore the old behavior.\n",
      "[CV 4/5; 15/18] END learning_rate=0.1, max_depth=5, n_estimators=100;, score=0.815 total time=   0.1s\n",
      "[CV 5/5; 15/18] START learning_rate=0.1, max_depth=5, n_estimators=100..........\n",
      "[00:29:33] WARNING: C:/Users/Administrator/workspace/xgboost-win64_release_1.5.0/src/learner.cc:1115: Starting in XGBoost 1.3.0, the default evaluation metric used with the objective 'binary:logistic' was changed from 'error' to 'logloss'. Explicitly set eval_metric if you'd like to restore the old behavior.\n",
      "[CV 5/5; 15/18] END learning_rate=0.1, max_depth=5, n_estimators=100;, score=0.865 total time=   0.1s\n",
      "[CV 1/5; 16/18] START learning_rate=0.1, max_depth=5, n_estimators=500..........\n",
      "[00:29:33] WARNING: C:/Users/Administrator/workspace/xgboost-win64_release_1.5.0/src/learner.cc:1115: Starting in XGBoost 1.3.0, the default evaluation metric used with the objective 'binary:logistic' was changed from 'error' to 'logloss'. Explicitly set eval_metric if you'd like to restore the old behavior.\n",
      "[CV 1/5; 16/18] END learning_rate=0.1, max_depth=5, n_estimators=500;, score=0.799 total time=   0.7s\n",
      "[CV 2/5; 16/18] START learning_rate=0.1, max_depth=5, n_estimators=500..........\n",
      "[00:29:34] WARNING: C:/Users/Administrator/workspace/xgboost-win64_release_1.5.0/src/learner.cc:1115: Starting in XGBoost 1.3.0, the default evaluation metric used with the objective 'binary:logistic' was changed from 'error' to 'logloss'. Explicitly set eval_metric if you'd like to restore the old behavior.\n",
      "[CV 2/5; 16/18] END learning_rate=0.1, max_depth=5, n_estimators=500;, score=0.803 total time=   0.7s\n",
      "[CV 3/5; 16/18] START learning_rate=0.1, max_depth=5, n_estimators=500..........\n",
      "[00:29:35] WARNING: C:/Users/Administrator/workspace/xgboost-win64_release_1.5.0/src/learner.cc:1115: Starting in XGBoost 1.3.0, the default evaluation metric used with the objective 'binary:logistic' was changed from 'error' to 'logloss'. Explicitly set eval_metric if you'd like to restore the old behavior.\n",
      "[CV 3/5; 16/18] END learning_rate=0.1, max_depth=5, n_estimators=500;, score=0.876 total time=   0.6s\n",
      "[CV 4/5; 16/18] START learning_rate=0.1, max_depth=5, n_estimators=500..........\n",
      "[00:29:35] WARNING: C:/Users/Administrator/workspace/xgboost-win64_release_1.5.0/src/learner.cc:1115: Starting in XGBoost 1.3.0, the default evaluation metric used with the objective 'binary:logistic' was changed from 'error' to 'logloss'. Explicitly set eval_metric if you'd like to restore the old behavior.\n",
      "[CV 4/5; 16/18] END learning_rate=0.1, max_depth=5, n_estimators=500;, score=0.798 total time=   0.7s\n",
      "[CV 5/5; 16/18] START learning_rate=0.1, max_depth=5, n_estimators=500..........\n",
      "[00:29:36] WARNING: C:/Users/Administrator/workspace/xgboost-win64_release_1.5.0/src/learner.cc:1115: Starting in XGBoost 1.3.0, the default evaluation metric used with the objective 'binary:logistic' was changed from 'error' to 'logloss'. Explicitly set eval_metric if you'd like to restore the old behavior.\n",
      "[CV 5/5; 16/18] END learning_rate=0.1, max_depth=5, n_estimators=500;, score=0.843 total time=   0.6s\n",
      "[CV 1/5; 17/18] START learning_rate=0.1, max_depth=7, n_estimators=100..........\n",
      "[00:29:37] WARNING: C:/Users/Administrator/workspace/xgboost-win64_release_1.5.0/src/learner.cc:1115: Starting in XGBoost 1.3.0, the default evaluation metric used with the objective 'binary:logistic' was changed from 'error' to 'logloss'. Explicitly set eval_metric if you'd like to restore the old behavior.\n",
      "[CV 1/5; 17/18] END learning_rate=0.1, max_depth=7, n_estimators=100;, score=0.816 total time=   0.1s\n",
      "[CV 2/5; 17/18] START learning_rate=0.1, max_depth=7, n_estimators=100..........\n",
      "[00:29:37] WARNING: C:/Users/Administrator/workspace/xgboost-win64_release_1.5.0/src/learner.cc:1115: Starting in XGBoost 1.3.0, the default evaluation metric used with the objective 'binary:logistic' was changed from 'error' to 'logloss'. Explicitly set eval_metric if you'd like to restore the old behavior.\n",
      "[CV 2/5; 17/18] END learning_rate=0.1, max_depth=7, n_estimators=100;, score=0.815 total time=   0.1s\n",
      "[CV 3/5; 17/18] START learning_rate=0.1, max_depth=7, n_estimators=100..........\n",
      "[00:29:37] WARNING: C:/Users/Administrator/workspace/xgboost-win64_release_1.5.0/src/learner.cc:1115: Starting in XGBoost 1.3.0, the default evaluation metric used with the objective 'binary:logistic' was changed from 'error' to 'logloss'. Explicitly set eval_metric if you'd like to restore the old behavior.\n",
      "[CV 3/5; 17/18] END learning_rate=0.1, max_depth=7, n_estimators=100;, score=0.854 total time=   0.1s\n",
      "[CV 4/5; 17/18] START learning_rate=0.1, max_depth=7, n_estimators=100..........\n",
      "[00:29:38] WARNING: C:/Users/Administrator/workspace/xgboost-win64_release_1.5.0/src/learner.cc:1115: Starting in XGBoost 1.3.0, the default evaluation metric used with the objective 'binary:logistic' was changed from 'error' to 'logloss'. Explicitly set eval_metric if you'd like to restore the old behavior.\n",
      "[CV 4/5; 17/18] END learning_rate=0.1, max_depth=7, n_estimators=100;, score=0.826 total time=   0.1s\n",
      "[CV 5/5; 17/18] START learning_rate=0.1, max_depth=7, n_estimators=100..........\n",
      "[00:29:38] WARNING: C:/Users/Administrator/workspace/xgboost-win64_release_1.5.0/src/learner.cc:1115: Starting in XGBoost 1.3.0, the default evaluation metric used with the objective 'binary:logistic' was changed from 'error' to 'logloss'. Explicitly set eval_metric if you'd like to restore the old behavior.\n"
     ]
    },
    {
     "name": "stdout",
     "output_type": "stream",
     "text": [
      "[CV 5/5; 17/18] END learning_rate=0.1, max_depth=7, n_estimators=100;, score=0.854 total time=   0.1s\n",
      "[CV 1/5; 18/18] START learning_rate=0.1, max_depth=7, n_estimators=500..........\n",
      "[00:29:38] WARNING: C:/Users/Administrator/workspace/xgboost-win64_release_1.5.0/src/learner.cc:1115: Starting in XGBoost 1.3.0, the default evaluation metric used with the objective 'binary:logistic' was changed from 'error' to 'logloss'. Explicitly set eval_metric if you'd like to restore the old behavior.\n",
      "[CV 1/5; 18/18] END learning_rate=0.1, max_depth=7, n_estimators=500;, score=0.793 total time=   0.8s\n",
      "[CV 2/5; 18/18] START learning_rate=0.1, max_depth=7, n_estimators=500..........\n",
      "[00:29:39] WARNING: C:/Users/Administrator/workspace/xgboost-win64_release_1.5.0/src/learner.cc:1115: Starting in XGBoost 1.3.0, the default evaluation metric used with the objective 'binary:logistic' was changed from 'error' to 'logloss'. Explicitly set eval_metric if you'd like to restore the old behavior.\n",
      "[CV 2/5; 18/18] END learning_rate=0.1, max_depth=7, n_estimators=500;, score=0.792 total time=   0.8s\n",
      "[CV 3/5; 18/18] START learning_rate=0.1, max_depth=7, n_estimators=500..........\n",
      "[00:29:40] WARNING: C:/Users/Administrator/workspace/xgboost-win64_release_1.5.0/src/learner.cc:1115: Starting in XGBoost 1.3.0, the default evaluation metric used with the objective 'binary:logistic' was changed from 'error' to 'logloss'. Explicitly set eval_metric if you'd like to restore the old behavior.\n",
      "[CV 3/5; 18/18] END learning_rate=0.1, max_depth=7, n_estimators=500;, score=0.848 total time=   0.8s\n",
      "[CV 4/5; 18/18] START learning_rate=0.1, max_depth=7, n_estimators=500..........\n",
      "[00:29:41] WARNING: C:/Users/Administrator/workspace/xgboost-win64_release_1.5.0/src/learner.cc:1115: Starting in XGBoost 1.3.0, the default evaluation metric used with the objective 'binary:logistic' was changed from 'error' to 'logloss'. Explicitly set eval_metric if you'd like to restore the old behavior.\n",
      "[CV 4/5; 18/18] END learning_rate=0.1, max_depth=7, n_estimators=500;, score=0.781 total time=   0.8s\n",
      "[CV 5/5; 18/18] START learning_rate=0.1, max_depth=7, n_estimators=500..........\n",
      "[00:29:42] WARNING: C:/Users/Administrator/workspace/xgboost-win64_release_1.5.0/src/learner.cc:1115: Starting in XGBoost 1.3.0, the default evaluation metric used with the objective 'binary:logistic' was changed from 'error' to 'logloss'. Explicitly set eval_metric if you'd like to restore the old behavior.\n",
      "[CV 5/5; 18/18] END learning_rate=0.1, max_depth=7, n_estimators=500;, score=0.826 total time=   0.8s\n",
      "[00:29:42] WARNING: C:/Users/Administrator/workspace/xgboost-win64_release_1.5.0/src/learner.cc:1115: Starting in XGBoost 1.3.0, the default evaluation metric used with the objective 'binary:logistic' was changed from 'error' to 'logloss'. Explicitly set eval_metric if you'd like to restore the old behavior.\n"
     ]
    },
    {
     "data": {
      "text/plain": [
       "GridSearchCV(cv=5,\n",
       "             estimator=XGBClassifier(base_score=None, booster=None,\n",
       "                                     colsample_bylevel=None,\n",
       "                                     colsample_bynode=None,\n",
       "                                     colsample_bytree=None,\n",
       "                                     enable_categorical=False, gamma=None,\n",
       "                                     gpu_id=None, importance_type=None,\n",
       "                                     interaction_constraints=None,\n",
       "                                     learning_rate=None, max_delta_step=None,\n",
       "                                     max_depth=None, min_child_weight=None,\n",
       "                                     missing=nan, monotone_constraints=None,\n",
       "                                     n_estimators=100, n_jobs=None,\n",
       "                                     num_parallel_tree=None, predictor=None,\n",
       "                                     random_state=None, reg_alpha=None,\n",
       "                                     reg_lambda=None, scale_pos_weight=None,\n",
       "                                     subsample=None, tree_method=None,\n",
       "                                     use_label_encoder=False,\n",
       "                                     validate_parameters=None, verbosity=None),\n",
       "             param_grid={'learning_rate': [0.01, 0.05, 0.1],\n",
       "                         'max_depth': [3, 5, 7], 'n_estimators': [100, 500]},\n",
       "             refit='Accuracy', verbose=10)"
      ]
     },
     "execution_count": 150,
     "metadata": {},
     "output_type": "execute_result"
    }
   ],
   "source": [
    "from xgboost import XGBClassifier\n",
    "\n",
    "xgb = XGBClassifier(use_label_encoder=False)\n",
    "param_test1 = {\n",
    "    'n_estimators': [100,500],\n",
    "    'max_depth': [3,5,7],\n",
    "    #'min_child_weight': [1,3],\n",
    "#     'gamma':[i/10.0 for i in range(1,5)],\n",
    "#     'subsample':[i/10.0 for i in range(6,8)],\n",
    "#     'colsample_bytree':[i/10.0 for i in range(6,8)],\n",
    "#     'reg_alpha':[0.001, 0.01, 0.1, 1],\n",
    "    'learning_rate': [0.01, 0.05, 0.1]\n",
    "}\n",
    "scoring = {'AUC': 'roc_auc'}\n",
    "gsearch1 = GridSearchCV(estimator = xgb, \n",
    "                       param_grid = param_test1, \n",
    "                       cv=5, verbose = 10, \n",
    "                       refit='Accuracy')\n",
    "gsearch1.fit(X_train, y_train)"
   ]
  },
  {
   "cell_type": "code",
   "execution_count": 152,
   "id": "b919792c",
   "metadata": {},
   "outputs": [
    {
     "name": "stdout",
     "output_type": "stream",
     "text": [
      "{'learning_rate': 0.05, 'max_depth': 5, 'n_estimators': 500}\n"
     ]
    }
   ],
   "source": [
    "print(gsearch1.best_params_)"
   ]
  },
  {
   "cell_type": "code",
   "execution_count": 151,
   "id": "f3d934c1",
   "metadata": {},
   "outputs": [],
   "source": [
    "\n",
    "# y_hat_base_vc = gsearch1.predict(X_test).astype(int)\n",
    "# basic_submission = {'PassengerId': dft1.PassengerId, 'Survived': y_hat_base_vc}\n",
    "# base_submission = pd.DataFrame(basic_submission)\n",
    "# base_submission.to_csv('base_submission.csv', index=False)"
   ]
  },
  {
   "cell_type": "code",
   "execution_count": null,
   "id": "98546fb2",
   "metadata": {},
   "outputs": [],
   "source": []
  }
 ],
 "metadata": {
  "kernelspec": {
   "display_name": "Python 3",
   "language": "python",
   "name": "python3"
  },
  "language_info": {
   "codemirror_mode": {
    "name": "ipython",
    "version": 3
   },
   "file_extension": ".py",
   "mimetype": "text/x-python",
   "name": "python",
   "nbconvert_exporter": "python",
   "pygments_lexer": "ipython3",
   "version": "3.7.10"
  }
 },
 "nbformat": 4,
 "nbformat_minor": 5
}
